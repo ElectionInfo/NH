{
  "nbformat": 4,
  "nbformat_minor": 0,
  "metadata": {
    "colab": {
      "name": "주식 보유기간 예측 EDA.ipynb",
      "provenance": [],
      "collapsed_sections": [],
      "toc_visible": true
    },
    "kernelspec": {
      "name": "python3",
      "display_name": "Python 3"
    },
    "language_info": {
      "name": "python"
    }
  },
  "cells": [
    {
      "cell_type": "markdown",
      "metadata": {
        "id": "vPKfndME_SDj"
      },
      "source": [
        "# 대회소개 및 목적"
      ]
    },
    {
      "cell_type": "markdown",
      "metadata": {
        "id": "iSiVOQNnChi2"
      },
      "source": [
        "<p align=\"center\"><img src=\"https://ir.nhqv.com/img/sub/intro_ci.png\"/></p> \n",
        "\n",
        "이 대회는 NH투자증권에서 개최하는 **\"제2회 NH투자증권 빅데이터 경진대회 - 데이터 문화가 되다\"** 입니다.  \n",
        "\n",
        "NH투자증권에서 제공하는 5가지의 데이터셋을 토대로 고객들의 주식 보유기간을 예측하고 이를 활용한 서비스 아이디어를 제안하는 것이 대회의 목적입니다.  \n",
        "\n",
        "예선, 본선, 결선을 통해 진행되며 예선을 통과한 50팀에서 16팀을 선발하여 결선에 진출합니다.  \n",
        "\n",
        "2020년의 데이터를 토대로 2021년의 주식 보유기간을 예측하는 것이 목적입니다.  \n",
        "따라서 대회 개최측에서는 외부 데이터를 사용하는 것을 적극 권장하고 있으며 외부 데이터 사용시 모든 2021년 데이터를 사용하지 않도록 유의하고 있습니다.\n"
      ]
    },
    {
      "cell_type": "markdown",
      "metadata": {
        "id": "RhuammKZSC2f"
      },
      "source": [
        "![](https://drive.google.com/uc?id=1Vh60FlQsg3uJnMf1jqP97Y1z7qk2gLsK)\n",
        "\n",
        "고객들의 투자자산과 무브머니가 계속해서 증가하는 추세에서 증권사는 고객들의 최근 투자패턴 변화에 집중하고 있습니다.  \n",
        "NH투자증권에서는 고객의 변화된 투자패턴을 이해하고 이에 특화된 서비스를 제공하기를 원합니다."
      ]
    },
    {
      "cell_type": "markdown",
      "metadata": {
        "id": "P2CcF2iANJof"
      },
      "source": [
        "## 평가방식\n",
        "\n",
        "이번 대회의 평가방식은 예선, 본선, 결선별로 평가방식이 구분되어집니다.\n",
        "\n",
        "### 예선\n",
        "- 데이콘에서 진행하며 아래 평가지표로 상위 50팀 선발\n",
        "- 주식 보유기간 예측결과 값을 private 리더보드 평가 (80%)\n",
        "- 코드 모델 개발 설명서 평가 (20%)\n",
        "- 주의사항\n",
        "  - 주석과 코드는 모두 UTF-8 인코딩을 사용해야함\n",
        "  - 반드시 코드에 '/data', 데이터 입/출력 경로를 포함해야함\n",
        "  - 개발환경, 라이브러리 버전 기재\n",
        "\n",
        "### 본선\n",
        "- 본선 진출자는 서비스 아이디어 제안서(ppt)를 반드시 제출\n",
        "- 총 4가지의 평가지표로 상위 16팀 선정\n",
        "  - 창의성 : 아이디어, 차별성, 참신성\n",
        "  - 과정성 : 결과 도출까지의 논리성\n",
        "  - 적합성 : 구현 알고리즘/결과에 대한 해석\n",
        "  - 정확성(정량평가) : 알고리즘 오차 점수 - RMSE\n",
        "\n",
        "### 결선\n",
        "- 결선은 쇼케이스로 진행되며 본선 통과 16팀에서 상위 6팀을 수상 (나머지는 입선)\n",
        "- 평가지표\n",
        "  - A. 아이디어 실현 가능성(30%)  \n",
        "    - 아이디어가 실제 실현 가능성이 있는가\n",
        "    - 아이디어가 비즈니스적 임팩트를 기대할 수 있는가\n",
        "\n",
        "  - B. 논리적 일관성(30%)\n",
        "    - 아이디어 전개 과정에서 탄탄한 자료로 이어져 있는가\n",
        "    - 근거 있는 자료를 제시하고 적합하게 사용되었는가\n",
        "\n",
        "  - C. 내용의 창의성(20%)\n",
        "    - 주제에 대한 독특한 아이디어와 창의적인 관점이 제시되어 있는가\n",
        "    - 새로운 발상, 독특한 콘셉트 요소가 있는가\n",
        "\n",
        "  - D. 자료의 완결성(10%)\n",
        "    - 보고서가 성의 있고 짜임새 있게 구성되어 있는가\n",
        "    - 참가자의 노력이 잘 드러나는가\n",
        "\n",
        "  - E. 발표 능력(10%)\n",
        "    - 발표가 자신감 있고 자연스러운가\n",
        "    - Q&A에 대한 대응이 매끄럽고, 논리적으로 문제가 없는가\n"
      ]
    },
    {
      "cell_type": "markdown",
      "metadata": {
        "id": "8N_Lb_W-RV17"
      },
      "source": [
        "## 정확도 평가지표 (RMSE)\n",
        "예선 및 본선에서 평가지표로 활용되는 지표는 RMSE입니다.  \n",
        "\n",
        "### 평균 제곱근 편자 - RMSE (Root Mean Squared Error)\n",
        "\n",
        "$$\n",
        "\\text{RMSE} = \\sqrt{\\frac{\\sum_{i=1}^{N}{(Y_{i}-\\widehat{Y_{i}}})^2}{N}}\n",
        "$$\n",
        "\n",
        "- $N$ : 데이터 개수\n",
        "- $Y_i$ : 보유일수 실제값\n",
        "- $\\widehat{Y_i}$ : 보유일수 예측값\n",
        "\n"
      ]
    },
    {
      "cell_type": "code",
      "metadata": {
        "id": "v3qvnIk5_Jgz"
      },
      "source": [
        "import numpy as np\n",
        "import pandas as pd\n",
        "import matplotlib.pyplot as plt\n",
        "import seaborn as sns\n",
        "import warnings\n",
        "import os\n",
        "import platform\n",
        "import missingno as msno\n",
        "from matplotlib import font_manager, rc\n",
        "from tqdm import tqdm_notebook, tqdm"
      ],
      "execution_count": 1,
      "outputs": []
    },
    {
      "cell_type": "markdown",
      "metadata": {
        "id": "vow-yGAKtOGC"
      },
      "source": [
        "## Settings"
      ]
    },
    {
      "cell_type": "code",
      "metadata": {
        "id": "WBkZtMq6pk20",
        "colab": {
          "base_uri": "https://localhost:8080/"
        },
        "outputId": "57f18e82-6389-4f32-ddff-62d2bc421bc3"
      },
      "source": [
        "!sudo apt-get install -y fonts-nanum\n",
        "!sudo fc-cache -fv\n",
        "!rm ~/.cache/matplotlib -rf"
      ],
      "execution_count": 2,
      "outputs": [
        {
          "output_type": "stream",
          "name": "stdout",
          "text": [
            "Reading package lists... Done\n",
            "Building dependency tree       \n",
            "Reading state information... Done\n",
            "fonts-nanum is already the newest version (20170925-1).\n",
            "0 upgraded, 0 newly installed, 0 to remove and 40 not upgraded.\n",
            "/usr/share/fonts: caching, new cache contents: 0 fonts, 1 dirs\n",
            "/usr/share/fonts/truetype: caching, new cache contents: 0 fonts, 3 dirs\n",
            "/usr/share/fonts/truetype/humor-sans: caching, new cache contents: 1 fonts, 0 dirs\n",
            "/usr/share/fonts/truetype/liberation: caching, new cache contents: 16 fonts, 0 dirs\n",
            "/usr/share/fonts/truetype/nanum: caching, new cache contents: 10 fonts, 0 dirs\n",
            "/usr/local/share/fonts: caching, new cache contents: 0 fonts, 0 dirs\n",
            "/root/.local/share/fonts: skipping, no such directory\n",
            "/root/.fonts: skipping, no such directory\n",
            "/var/cache/fontconfig: cleaning cache directory\n",
            "/root/.cache/fontconfig: not cleaning non-existent cache directory\n",
            "/root/.fontconfig: not cleaning non-existent cache directory\n",
            "fc-cache: succeeded\n"
          ]
        }
      ]
    },
    {
      "cell_type": "code",
      "metadata": {
        "colab": {
          "base_uri": "https://localhost:8080/"
        },
        "id": "nniI6eVZVI2m",
        "outputId": "af55c370-581c-4418-f39f-fc3098637822"
      },
      "source": [
        "!pip install parmap"
      ],
      "execution_count": 3,
      "outputs": [
        {
          "output_type": "stream",
          "name": "stdout",
          "text": [
            "Collecting parmap\n",
            "  Downloading parmap-1.5.2-py2.py3-none-any.whl (15 kB)\n",
            "Installing collected packages: parmap\n",
            "Successfully installed parmap-1.5.2\n"
          ]
        }
      ]
    },
    {
      "cell_type": "code",
      "metadata": {
        "id": "i_gHC5utAfy7"
      },
      "source": [
        "# font settings - local (로컬 실행시 각주제거하고 font settings - colab 주석처리)\n",
        "\"\"\"\n",
        "if platform.system() == 'Windows':\n",
        "    font_name = font_manager.FontProperties(fname='c:/Windows/Fonts/malgun.ttf').get_name()\n",
        "    rc('font', family=font_name)\n",
        "else:\n",
        "    rc('font', family='AppleGothic')\n",
        "mpl.rcParams['axes.unicode_minus'] = False\n",
        "\"\"\"\n",
        "\n",
        "# font settings - colab\n",
        "plt.rc('font', family='NanumBarunGothic') \n",
        "\n",
        "# pandas 부동소수점\n",
        "pd.options.display.float_format = '{:.4f}'.format\n",
        "\n",
        "# seaborn palette setting\n",
        "palettes = sns.color_palette(\"Paired\", 9)\n",
        "sns.set_palette('muted')\n",
        "\n",
        "# python warning ignore setting\n",
        "warnings.filterwarnings('ignore')\n",
        "\n",
        "# tqdm setting\n",
        "tqdm.pandas()\n",
        "\n",
        "# data input, output path setting\n",
        "INPUT_PATH = 'drive/MyDrive/dataset/dacon/nh/data/'\n",
        "OUTPUT_PATH = 'drive/MyDrive/dataset/dacon/nh/submissions/'"
      ],
      "execution_count": 4,
      "outputs": []
    },
    {
      "cell_type": "code",
      "metadata": {
        "colab": {
          "base_uri": "https://localhost:8080/"
        },
        "id": "HM9MVafnAirZ",
        "outputId": "92109c20-2bf5-439a-d0e0-66a5c91da96c"
      },
      "source": [
        "os.listdir(INPUT_PATH)"
      ],
      "execution_count": 5,
      "outputs": [
        {
          "output_type": "execute_result",
          "data": {
            "text/plain": [
              "['cus_info.csv',\n",
              " 'sample_submission.csv',\n",
              " 'stk_hld_test.csv',\n",
              " 'stk_hld_train.csv',\n",
              " 'stk_bnc_hist.csv',\n",
              " 'iem_info.csv']"
            ]
          },
          "metadata": {},
          "execution_count": 5
        }
      ]
    },
    {
      "cell_type": "markdown",
      "metadata": {
        "id": "_1L2TbcwCbv9"
      },
      "source": [
        "# 데이터 로드 및 확인"
      ]
    },
    {
      "cell_type": "code",
      "metadata": {
        "id": "RbvFpajwBC6l"
      },
      "source": [
        "customers = pd.read_csv(INPUT_PATH+'cus_info.csv')\n",
        "stock_info = pd.read_csv(INPUT_PATH+'iem_info.csv')\n",
        "stock_rem_hist = pd.read_csv(INPUT_PATH+'stk_bnc_hist.csv')\n",
        "train = pd.read_csv(INPUT_PATH+'stk_hld_train.csv')\n",
        "test = pd.read_csv(INPUT_PATH+'stk_hld_test.csv')"
      ],
      "execution_count": 81,
      "outputs": []
    },
    {
      "cell_type": "code",
      "metadata": {
        "colab": {
          "base_uri": "https://localhost:8080/",
          "height": 162
        },
        "id": "01aZjVSUBvuw",
        "outputId": "e45eed14-9626-4d61-cd00-92af0f75643b"
      },
      "source": [
        "customers.head(3)"
      ],
      "execution_count": 7,
      "outputs": [
        {
          "output_type": "execute_result",
          "data": {
            "text/html": [
              "<div>\n",
              "<style scoped>\n",
              "    .dataframe tbody tr th:only-of-type {\n",
              "        vertical-align: middle;\n",
              "    }\n",
              "\n",
              "    .dataframe tbody tr th {\n",
              "        vertical-align: top;\n",
              "    }\n",
              "\n",
              "    .dataframe thead th {\n",
              "        text-align: right;\n",
              "    }\n",
              "</style>\n",
              "<table border=\"1\" class=\"dataframe\">\n",
              "  <thead>\n",
              "    <tr style=\"text-align: right;\">\n",
              "      <th></th>\n",
              "      <th>act_id</th>\n",
              "      <th>sex_dit_cd</th>\n",
              "      <th>cus_age_stn_cd</th>\n",
              "      <th>ivs_icn_cd</th>\n",
              "      <th>cus_aet_stn_cd</th>\n",
              "      <th>mrz_pdt_tp_sgm_cd</th>\n",
              "      <th>lsg_sgm_cd</th>\n",
              "      <th>tco_cus_grd_cd</th>\n",
              "      <th>tot_ivs_te_sgm_cd</th>\n",
              "      <th>mrz_btp_dit_cd</th>\n",
              "    </tr>\n",
              "  </thead>\n",
              "  <tbody>\n",
              "    <tr>\n",
              "      <th>0</th>\n",
              "      <td>64aae8dd71e5c0761000db9f9a6779e504e7a4aa9dc097...</td>\n",
              "      <td>1</td>\n",
              "      <td>4</td>\n",
              "      <td>99</td>\n",
              "      <td>1</td>\n",
              "      <td>2</td>\n",
              "      <td>3</td>\n",
              "      <td>3</td>\n",
              "      <td>6</td>\n",
              "      <td>16</td>\n",
              "    </tr>\n",
              "    <tr>\n",
              "      <th>1</th>\n",
              "      <td>5f7c3a8f37d9c268d06130ff0be5d32a1b9ef68c13049f...</td>\n",
              "      <td>1</td>\n",
              "      <td>6</td>\n",
              "      <td>4</td>\n",
              "      <td>4</td>\n",
              "      <td>2</td>\n",
              "      <td>5</td>\n",
              "      <td>2</td>\n",
              "      <td>6</td>\n",
              "      <td>1</td>\n",
              "    </tr>\n",
              "    <tr>\n",
              "      <th>2</th>\n",
              "      <td>1119c23c3a504ca7b75060277410c0f6fb9018ec7638c2...</td>\n",
              "      <td>2</td>\n",
              "      <td>7</td>\n",
              "      <td>4</td>\n",
              "      <td>3</td>\n",
              "      <td>2</td>\n",
              "      <td>5</td>\n",
              "      <td>5</td>\n",
              "      <td>6</td>\n",
              "      <td>9</td>\n",
              "    </tr>\n",
              "  </tbody>\n",
              "</table>\n",
              "</div>"
            ],
            "text/plain": [
              "                                              act_id  ...  mrz_btp_dit_cd\n",
              "0  64aae8dd71e5c0761000db9f9a6779e504e7a4aa9dc097...  ...              16\n",
              "1  5f7c3a8f37d9c268d06130ff0be5d32a1b9ef68c13049f...  ...               1\n",
              "2  1119c23c3a504ca7b75060277410c0f6fb9018ec7638c2...  ...               9\n",
              "\n",
              "[3 rows x 10 columns]"
            ]
          },
          "metadata": {},
          "execution_count": 7
        }
      ]
    },
    {
      "cell_type": "code",
      "metadata": {
        "colab": {
          "base_uri": "https://localhost:8080/",
          "height": 142
        },
        "id": "6Qs379_gCKQ1",
        "outputId": "e2419d0a-04f8-4d3a-f37f-3a0dc764acbd"
      },
      "source": [
        "stock_info.head(3)"
      ],
      "execution_count": 8,
      "outputs": [
        {
          "output_type": "execute_result",
          "data": {
            "text/html": [
              "<div>\n",
              "<style scoped>\n",
              "    .dataframe tbody tr th:only-of-type {\n",
              "        vertical-align: middle;\n",
              "    }\n",
              "\n",
              "    .dataframe tbody tr th {\n",
              "        vertical-align: top;\n",
              "    }\n",
              "\n",
              "    .dataframe thead th {\n",
              "        text-align: right;\n",
              "    }\n",
              "</style>\n",
              "<table border=\"1\" class=\"dataframe\">\n",
              "  <thead>\n",
              "    <tr style=\"text-align: right;\">\n",
              "      <th></th>\n",
              "      <th>iem_cd</th>\n",
              "      <th>iem_krl_nm</th>\n",
              "      <th>btp_cfc_cd</th>\n",
              "      <th>mkt_pr_tal_scl_tp_cd</th>\n",
              "      <th>stk_dit_cd</th>\n",
              "    </tr>\n",
              "  </thead>\n",
              "  <tbody>\n",
              "    <tr>\n",
              "      <th>0</th>\n",
              "      <td>A000020</td>\n",
              "      <td>동화약품</td>\n",
              "      <td>8</td>\n",
              "      <td>2</td>\n",
              "      <td>99</td>\n",
              "    </tr>\n",
              "    <tr>\n",
              "      <th>1</th>\n",
              "      <td>A000080</td>\n",
              "      <td>하이트진로</td>\n",
              "      <td>14</td>\n",
              "      <td>2</td>\n",
              "      <td>1</td>\n",
              "    </tr>\n",
              "    <tr>\n",
              "      <th>2</th>\n",
              "      <td>A000180</td>\n",
              "      <td>성창기업지주</td>\n",
              "      <td>5</td>\n",
              "      <td>3</td>\n",
              "      <td>99</td>\n",
              "    </tr>\n",
              "  </tbody>\n",
              "</table>\n",
              "</div>"
            ],
            "text/plain": [
              "    iem_cd iem_krl_nm  btp_cfc_cd  mkt_pr_tal_scl_tp_cd  stk_dit_cd\n",
              "0  A000020       동화약품           8                     2          99\n",
              "1  A000080      하이트진로          14                     2           1\n",
              "2  A000180     성창기업지주           5                     3          99"
            ]
          },
          "metadata": {},
          "execution_count": 8
        }
      ]
    },
    {
      "cell_type": "code",
      "metadata": {
        "colab": {
          "base_uri": "https://localhost:8080/",
          "height": 142
        },
        "id": "sTK25lO1CLNn",
        "outputId": "50b3117c-8a1b-462c-8a2f-e259feec6964"
      },
      "source": [
        "stock_rem_hist.head(3)"
      ],
      "execution_count": 9,
      "outputs": [
        {
          "output_type": "execute_result",
          "data": {
            "text/html": [
              "<div>\n",
              "<style scoped>\n",
              "    .dataframe tbody tr th:only-of-type {\n",
              "        vertical-align: middle;\n",
              "    }\n",
              "\n",
              "    .dataframe tbody tr th {\n",
              "        vertical-align: top;\n",
              "    }\n",
              "\n",
              "    .dataframe thead th {\n",
              "        text-align: right;\n",
              "    }\n",
              "</style>\n",
              "<table border=\"1\" class=\"dataframe\">\n",
              "  <thead>\n",
              "    <tr style=\"text-align: right;\">\n",
              "      <th></th>\n",
              "      <th>act_id</th>\n",
              "      <th>bse_dt</th>\n",
              "      <th>iem_cd</th>\n",
              "      <th>bnc_qty</th>\n",
              "      <th>tot_aet_amt</th>\n",
              "      <th>stk_par_pr</th>\n",
              "    </tr>\n",
              "  </thead>\n",
              "  <tbody>\n",
              "    <tr>\n",
              "      <th>0</th>\n",
              "      <td>1119c23c3a504ca7b75060277410c0f6fb9018ec7638c2...</td>\n",
              "      <td>20200820</td>\n",
              "      <td>A008770</td>\n",
              "      <td>40.0000</td>\n",
              "      <td>2828000.0000</td>\n",
              "      <td>5000.0000</td>\n",
              "    </tr>\n",
              "    <tr>\n",
              "      <th>1</th>\n",
              "      <td>1119c23c3a504ca7b75060277410c0f6fb9018ec7638c2...</td>\n",
              "      <td>20200623</td>\n",
              "      <td>A008770</td>\n",
              "      <td>20.0000</td>\n",
              "      <td>1390000.0000</td>\n",
              "      <td>5000.0000</td>\n",
              "    </tr>\n",
              "    <tr>\n",
              "      <th>2</th>\n",
              "      <td>1119c23c3a504ca7b75060277410c0f6fb9018ec7638c2...</td>\n",
              "      <td>20160104</td>\n",
              "      <td>A005940</td>\n",
              "      <td>311.0000</td>\n",
              "      <td>2982490.0000</td>\n",
              "      <td>5000.0000</td>\n",
              "    </tr>\n",
              "  </tbody>\n",
              "</table>\n",
              "</div>"
            ],
            "text/plain": [
              "                                              act_id  ...  stk_par_pr\n",
              "0  1119c23c3a504ca7b75060277410c0f6fb9018ec7638c2...  ...   5000.0000\n",
              "1  1119c23c3a504ca7b75060277410c0f6fb9018ec7638c2...  ...   5000.0000\n",
              "2  1119c23c3a504ca7b75060277410c0f6fb9018ec7638c2...  ...   5000.0000\n",
              "\n",
              "[3 rows x 6 columns]"
            ]
          },
          "metadata": {},
          "execution_count": 9
        }
      ]
    },
    {
      "cell_type": "code",
      "metadata": {
        "colab": {
          "base_uri": "https://localhost:8080/",
          "height": 142
        },
        "id": "yBXh1gTQCM-f",
        "outputId": "440423cf-5d5c-4b22-dfcb-593158a57615"
      },
      "source": [
        "train.head(3)"
      ],
      "execution_count": 10,
      "outputs": [
        {
          "output_type": "execute_result",
          "data": {
            "text/html": [
              "<div>\n",
              "<style scoped>\n",
              "    .dataframe tbody tr th:only-of-type {\n",
              "        vertical-align: middle;\n",
              "    }\n",
              "\n",
              "    .dataframe tbody tr th {\n",
              "        vertical-align: top;\n",
              "    }\n",
              "\n",
              "    .dataframe thead th {\n",
              "        text-align: right;\n",
              "    }\n",
              "</style>\n",
              "<table border=\"1\" class=\"dataframe\">\n",
              "  <thead>\n",
              "    <tr style=\"text-align: right;\">\n",
              "      <th></th>\n",
              "      <th>act_id</th>\n",
              "      <th>iem_cd</th>\n",
              "      <th>byn_dt</th>\n",
              "      <th>hold_d</th>\n",
              "    </tr>\n",
              "  </thead>\n",
              "  <tbody>\n",
              "    <tr>\n",
              "      <th>0</th>\n",
              "      <td>0ad104dbed99be0cd858aa772765ddedade554601a981b...</td>\n",
              "      <td>A006360</td>\n",
              "      <td>20180726</td>\n",
              "      <td>11</td>\n",
              "    </tr>\n",
              "    <tr>\n",
              "      <th>1</th>\n",
              "      <td>0ad104dbed99be0cd858aa772765ddedade554601a981b...</td>\n",
              "      <td>A005930</td>\n",
              "      <td>20180131</td>\n",
              "      <td>80</td>\n",
              "    </tr>\n",
              "    <tr>\n",
              "      <th>2</th>\n",
              "      <td>0ad104dbed99be0cd858aa772765ddedade554601a981b...</td>\n",
              "      <td>A005070</td>\n",
              "      <td>20180517</td>\n",
              "      <td>5</td>\n",
              "    </tr>\n",
              "  </tbody>\n",
              "</table>\n",
              "</div>"
            ],
            "text/plain": [
              "                                              act_id   iem_cd    byn_dt  hold_d\n",
              "0  0ad104dbed99be0cd858aa772765ddedade554601a981b...  A006360  20180726      11\n",
              "1  0ad104dbed99be0cd858aa772765ddedade554601a981b...  A005930  20180131      80\n",
              "2  0ad104dbed99be0cd858aa772765ddedade554601a981b...  A005070  20180517       5"
            ]
          },
          "metadata": {},
          "execution_count": 10
        }
      ]
    },
    {
      "cell_type": "code",
      "metadata": {
        "colab": {
          "base_uri": "https://localhost:8080/",
          "height": 142
        },
        "id": "ZIHAWuKpCNnD",
        "outputId": "de446089-0507-44c5-aa40-3a39d851120d"
      },
      "source": [
        "test.head(3)"
      ],
      "execution_count": 11,
      "outputs": [
        {
          "output_type": "execute_result",
          "data": {
            "text/html": [
              "<div>\n",
              "<style scoped>\n",
              "    .dataframe tbody tr th:only-of-type {\n",
              "        vertical-align: middle;\n",
              "    }\n",
              "\n",
              "    .dataframe tbody tr th {\n",
              "        vertical-align: top;\n",
              "    }\n",
              "\n",
              "    .dataframe thead th {\n",
              "        text-align: right;\n",
              "    }\n",
              "</style>\n",
              "<table border=\"1\" class=\"dataframe\">\n",
              "  <thead>\n",
              "    <tr style=\"text-align: right;\">\n",
              "      <th></th>\n",
              "      <th>act_id</th>\n",
              "      <th>iem_cd</th>\n",
              "      <th>byn_dt</th>\n",
              "      <th>hist_d</th>\n",
              "      <th>submit_id</th>\n",
              "      <th>hold_d</th>\n",
              "    </tr>\n",
              "  </thead>\n",
              "  <tbody>\n",
              "    <tr>\n",
              "      <th>0</th>\n",
              "      <td>0ad104dbed99be0cd858aa772765ddedade554601a981b...</td>\n",
              "      <td>A032640</td>\n",
              "      <td>20200522</td>\n",
              "      <td>153</td>\n",
              "      <td>IDX00001</td>\n",
              "      <td>0</td>\n",
              "    </tr>\n",
              "    <tr>\n",
              "      <th>1</th>\n",
              "      <td>0ad104dbed99be0cd858aa772765ddedade554601a981b...</td>\n",
              "      <td>A160600</td>\n",
              "      <td>20190823</td>\n",
              "      <td>335</td>\n",
              "      <td>IDX00002</td>\n",
              "      <td>0</td>\n",
              "    </tr>\n",
              "    <tr>\n",
              "      <th>2</th>\n",
              "      <td>0ad104dbed99be0cd858aa772765ddedade554601a981b...</td>\n",
              "      <td>A234340</td>\n",
              "      <td>20200611</td>\n",
              "      <td>139</td>\n",
              "      <td>IDX00003</td>\n",
              "      <td>0</td>\n",
              "    </tr>\n",
              "  </tbody>\n",
              "</table>\n",
              "</div>"
            ],
            "text/plain": [
              "                                              act_id   iem_cd  ...  submit_id  hold_d\n",
              "0  0ad104dbed99be0cd858aa772765ddedade554601a981b...  A032640  ...   IDX00001       0\n",
              "1  0ad104dbed99be0cd858aa772765ddedade554601a981b...  A160600  ...   IDX00002       0\n",
              "2  0ad104dbed99be0cd858aa772765ddedade554601a981b...  A234340  ...   IDX00003       0\n",
              "\n",
              "[3 rows x 6 columns]"
            ]
          },
          "metadata": {},
          "execution_count": 11
        }
      ]
    },
    {
      "cell_type": "markdown",
      "metadata": {
        "id": "mWHsZiwj6Ibw"
      },
      "source": [
        "# EDA"
      ]
    },
    {
      "cell_type": "markdown",
      "metadata": {
        "id": "RqFKphdb6L8P"
      },
      "source": [
        "각각의 데이터셋 별로 다양한 컬럼들이 존재합니다.  \n",
        "우선 각 데이터셋 별로 EDA를 진행하겠습니다."
      ]
    },
    {
      "cell_type": "markdown",
      "metadata": {
        "id": "y4PH4sNMHsH3"
      },
      "source": [
        "## 1. 기본 정보 EDA"
      ]
    },
    {
      "cell_type": "markdown",
      "metadata": {
        "id": "8wm-1xq1CO8I"
      },
      "source": [
        "### 고객 정보 데이터 (cus_info.csv) - customers\n",
        "\n",
        "2020년 7월 이전 계좌개설 및 2020년 12월 기준 국내주식 자산 100만원 이상 고객 중 10,000명 임의 추출한 데이터들입니다.  \n",
        "\n",
        "데이터셋에 필요한 정보들을 분석하겠습니다."
      ]
    },
    {
      "cell_type": "code",
      "metadata": {
        "id": "WfdxjCfiofhm"
      },
      "source": [
        "column_str = {}\n",
        "\n",
        "# cus_info column_str\n",
        "sex = { 1: \"남자\", 2: \"여자\"}\n",
        "age = { 1: \"20-24세\", 2: \"25-29세\", 3: \"30-34세\", 4: \"35-39세\", 5: \"40-44세\", 6: \"45-49세\", 7: \"50-54세\", 8: \"55-59세\", 9: \"60-64세\" }\n",
        "invest_type = { 0: \"정보제공미동의\", 1: \"안정형\", 2: \"안정추구형\", 3: \"위험중립형\", 4: \"적극투자형\", 5: \"공격투자형\", 9: \"전문투자자형\"}\n",
        "asset_range = { 1: \"0원이상~1천만원 미만\", 2: \"1천만원 이상~3천만원 미만\", 3: \"3천만원 이상~5천만원 미만\", 4: \"5천만원 이상~1억원 미만\", 5: \"1억원 이상~3억원 미만\", 6: \"3억원 이상\"}\n",
        "major_product = { 0: \"Only CMA\", 2: \"국내주식\", 3: \"해외주식\", 5: \"금속\", 6: \"국내채권\", 8: \"펀드\", 9: \"ELS or DLS\", 10: \"신탁_퇴직연금\", 11: \"RP\", 12: \"발행어음\", 15: \"신용대출\"}\n",
        "life_stage = { 2: \"사회초년생\", 3: \"가족형성기(남자)\", 4: \"가족형성기(여자)\", 5: \"가족성숙기(직장인)\", 6: \"가족성숙기(주부)\", 7: \"가족성숙기(남자)\", 8: \"가족성숙기(여자)\", 9: \"은퇴기\"}\n",
        "grade = { 1: \"탑클래스\", 2: \"골드\", 3: \"로얄\", 4: \"그린\", 5: \"블루\", 9: \"등급 미정의\"}\n",
        "duration = { 1: \"6개월 미만\", 2: \"6개월~1년 미만\", 3: \"1년~3년 미만\", 4: \"3년~5년 미만\", 5: \"5년~10년 미만\", 6: \"10년 이상\" }\n",
        "major_type = { 1: \"건설업\", 2: \"금융업\", 3: \"기계\", 4: \"방송, 통신\", 5: \"서비스, 오락, 문화\", 6: \"운송, 운수\", 7: \"유통\", \n",
        "              8: \"의료, 의약\", 9: \"전기, 전자\", 10: \"제조\", 11: \"철강\", 12: \"화학\", 13: \"IT\", 14: \"기타\", 15: \"혼합\", 16: \"비매매\" }\n",
        "\n",
        "# iem_info column_str\n",
        "stock_type = { 1: \"건설\", 2: \"금융\", 3: \"기계\", 4: \"통신\", 5: \"서비스\", 6: \"운송\", 7: \"유통\", \n",
        "              8: \"의료\", 9: \"전기\", 10: \"제조\", 11: \"철강\", 12: \"화학\", 13: \"IT\", 14: \"기타\" }\n",
        "market_cap_type = { 1: \"대형주\", 2: \"중형주\", 3: \"소형주\", 99: \"기타\" }\n",
        "market_type = { 1: \"코스피200\", 2: \"코스닥150\", 99: \"기타\" }\n",
        "\n",
        "column_str['sex_dit_cd'] = sex\n",
        "column_str['cus_age_stn_cd'] = age\n",
        "column_str['ivs_icn_cd'] = invest_type\n",
        "column_str['cus_aet_stn_cd'] = asset_range\n",
        "column_str['mrz_pdt_tp_sgm_cd'] = major_product\n",
        "column_str['lsg_sgm_cd'] = life_stage\n",
        "column_str['tco_cus_grd_cd'] = grade\n",
        "column_str['tot_ivs_te_sgm_cd'] = duration\n",
        "column_str['mrz_btp_dit_cd'] = major_type\n",
        "column_str['btp_cfc_cd'] = stock_type\n",
        "column_str['mkt_pr_tal_scl_tp_cd'] = market_cap_type\n",
        "column_str['stk_dit_cd'] = market_type"
      ],
      "execution_count": 12,
      "outputs": []
    },
    {
      "cell_type": "code",
      "metadata": {
        "colab": {
          "base_uri": "https://localhost:8080/"
        },
        "id": "hQMPS6I68eZo",
        "outputId": "6e51aefe-5ab3-4855-d219-e9eae6babda3"
      },
      "source": [
        "# missing value change to Nan\n",
        "customers['ivs_icn_cd'] = customers['ivs_icn_cd'].progress_apply(lambda x: None if x == 99 or np.isnan(x) else int(x))\n",
        "customers['tco_cus_grd_cd'] = customers['tco_cus_grd_cd'].progress_apply(lambda x: None if x == 99 or np.isnan(x) else int(x))"
      ],
      "execution_count": 82,
      "outputs": [
        {
          "output_type": "stream",
          "name": "stderr",
          "text": [
            "100%|██████████| 10000/10000 [00:00<00:00, 381470.29it/s]\n",
            "100%|██████████| 10000/10000 [00:00<00:00, 314925.52it/s]\n"
          ]
        }
      ]
    },
    {
      "cell_type": "code",
      "metadata": {
        "colab": {
          "base_uri": "https://localhost:8080/",
          "height": 513
        },
        "id": "n5h_pXrMNDur",
        "outputId": "f5e36790-9710-4a21-aceb-8517de9ecc4f"
      },
      "source": [
        "fig, axes = plt.subplots(1, 3, figsize=(20, 7))\n",
        "\n",
        "columns = customers.columns[1:]\n",
        "col_names = ['성별', '연령대', '투자성향', '자산구간', '주거래상품군', 'Life Stage', '등급', '투자기간', '주거래업종']\n",
        "\n",
        "for i, ax in zip(range(3), axes.flatten()):\n",
        "  col = columns[i]\n",
        "  x = sns.countplot(data=customers, x=customers[col].map(column_str[col]), ax=ax, order=column_str[col].values())\n",
        "\n",
        "  for p in x.patches:\n",
        "    height = p.get_height()\n",
        "    x.text(p.get_x()+p.get_width()/2., height+0.1, height, ha='center', size=15)\n",
        "\n",
        "  ax.set_xlabel('')\n",
        "  ax.set_xticklabels(x.get_xticklabels(), rotation=45, fontsize=13, horizontalalignment='right')\n",
        "  ax.set_ylabel('')\n",
        "  ax.set_title(col_names[i]+' 분포 ('+str(len(customers)-np.isnan(customers[col]).sum())+'명)', fontsize=15)\n",
        "\n",
        "fig.tight_layout()\n",
        "plt.show()"
      ],
      "execution_count": 14,
      "outputs": [
        {
          "output_type": "display_data",
          "data": {
            "image/png": "[encoded data removed]",
            "text/plain": [
              "<Figure size 1440x504 with 3 Axes>"
            ]
          },
          "metadata": {
            "needs_background": "light"
          }
        }
      ]
    },
    {
      "cell_type": "markdown",
      "metadata": {
        "id": "xaOG14HBfYan"
      },
      "source": [
        "전체 고객수는 앞서 대회 소개에 언급한 것과 같이 1만명입니다.  \n",
        "\n",
        "- 성별 분포\n",
        "  - 약 6:4비율로 남자 고객이 더 많은 것으로 확인됩니다.\n",
        "\n",
        "- 연령대 분포\n",
        "  - 고객의 연령대는 25 ~ 54세 사이의 고객이 대부분을 차지하는 것으로 보입니다.\n",
        "  - 35 ~ 39세가 가장 많은 인원분포를 차지하고 있으며 30~34세, 45~49세가 뒤를 잇고 있습니다.\n",
        "  - 60 ~ 64세가 가장 적은 인원분포를 차지하고 있습니다.\n",
        "  - 특이한 점으로는 20대 초반 (20\\~24세)에는 주식 계좌 보유자 수가 적지만 20대 중반 이후(25\\~29세)부터 청년층의 주식계좌 보유자 수가 급격하게 증가하는 것을 알 수 있습니다.\n",
        "\n",
        "- 투자성향 분포\n",
        "  - 투자성향에는 결측치가 존재합니다. 결측치를 제거한 결과를 그래프에 표시하였습니다.\n",
        "  - 가장 특이한 점은 투자성향에서 가장 높은 결과는 결측값입니다.  \n",
        "  이에 따라 결측치를 잘 보정하는 것이 중요해보입니다.\n",
        "  - 대부분의 고객이 안정추구, 위험중립, 적극투자형에 분포하고 있음을 알 수 있습니다.\n",
        "  - 개인투자자가 많은 것으로 생각되는만큼 전문투자자형의 비율이 압도적으로 낮은 것을 알 수 있습니다.\n",
        "  - NH투자증권 나무에서 제공하는 투자성향 구분은 다음과 같습니다.\n",
        "    1. 안정형 : 초저위험\n",
        "    2. 안정추구형 : 저위험\n",
        "    3. 위험중립형 : 중위험\n",
        "    4. 적극투자형 : 고위험\n",
        "    5. 공격투자형 : 초고위험\n",
        "\n",
        "    이에 따른 투자성 상품도 세분화되어있습니다. 후에 상황에 따라 참고하여 자료로 사용할 수 있을 것으로 보입니다.  \n",
        "    [투자성향 참고표- NH 나무](https://mdev.mynamuh.com/customer/investor/investorInfo#popShare2)\n"
      ]
    },
    {
      "cell_type": "code",
      "metadata": {
        "colab": {
          "base_uri": "https://localhost:8080/",
          "height": 547
        },
        "id": "ahkMu608e9Xj",
        "outputId": "b1816cf8-a263-4df3-cff6-cbf2086a406d"
      },
      "source": [
        "fig, axes = plt.subplots(1, 3, figsize=(20, 7))\n",
        "\n",
        "columns = customers.columns[1:]\n",
        "col_names = ['성별', '연령대', '투자성향', '자산구간', '주거래상품군', 'Life Stage', '등급', '투자기간', '주거래업종']\n",
        "\n",
        "for i, ax in zip(range(3), axes.flatten()):\n",
        "  col = columns[i+3]\n",
        "  x = sns.countplot(data=customers, x=customers[col].map(column_str[col]), ax=ax, order=column_str[col].values())\n",
        "\n",
        "  for p in x.patches:\n",
        "    height = p.get_height()\n",
        "    x.text(p.get_x()+p.get_width()/2., height+0.1, height, ha='center', size=15)\n",
        "\n",
        "  ax.set_xlabel('')\n",
        "  ax.set_xticklabels(x.get_xticklabels(), rotation=45, fontsize=13, horizontalalignment='right')\n",
        "  ax.set_ylabel('')\n",
        "  ax.set_title(col_names[i+3]+' 분포 ('+str(len(customers) - np.isnan(customers[col]).sum())+'명)', fontsize=15)\n",
        "\n",
        "fig.tight_layout()\n",
        "plt.show()"
      ],
      "execution_count": 15,
      "outputs": [
        {
          "output_type": "stream",
          "name": "stderr",
          "text": [
            "posx and posy should be finite values\n",
            "posx and posy should be finite values\n"
          ]
        },
        {
          "output_type": "display_data",
          "data": {
            "image/png": "[encoded data removed]",
            "text/plain": [
              "<Figure size 1440x504 with 3 Axes>"
            ]
          },
          "metadata": {
            "needs_background": "light"
          }
        }
      ]
    },
    {
      "cell_type": "markdown",
      "metadata": {
        "id": "1JJxkyxQUesk"
      },
      "source": [
        "\n",
        "- 자산구간 분포\n",
        "  - 대부분의 고객이 0원~3천만원 정도의 자산규모를 갖고 있습니다.\n",
        "  - 3억원 이상의 일명 큰손 투자자의 비율은 높지 않은 것을 알 수 있습니다.\n",
        "\n",
        "- 주거래상품군 분포\n",
        "  - 약 96% (9659명)의 고객이 국내주식을 주로 거래하고 있고 적은 수지만 해외주식을 주로 거래하는 고객도 분포하고 있습니다.\n",
        "  - 국내주식+해외주식이 전체 고객의 99%를 차지하고 있습니다.\n",
        "\n",
        "- Life Stage 분포\n",
        "  - 가족성숙기(직장인)단계의 고객이 가장 많은 수를 차지하고 있습니다. 해당 단계는 남녀 구분이 이루어져있지 않기 때문에 추가적으로 성별분포를 확인할 필요가 있어보입니다.\n",
        "  - 다음으로는 가족형성기(남자), 사회초년생이 뒤를 잇고 있습니다.\n",
        "  \n"
      ]
    },
    {
      "cell_type": "code",
      "metadata": {
        "colab": {
          "base_uri": "https://localhost:8080/",
          "height": 513
        },
        "id": "dDKEaU5Dgmdw",
        "outputId": "08d6071b-070f-4eb3-ef91-70028a4515f1"
      },
      "source": [
        "fig, axes = plt.subplots(1, 3, figsize=(20, 7))\n",
        "\n",
        "columns = customers.columns[1:]\n",
        "col_names = ['성별', '연령대', '투자성향', '자산구간', '주거래상품군', 'Life Stage', '등급', '투자기간', '주거래업종']\n",
        "\n",
        "for i, ax in zip(range(3), axes.flatten()):\n",
        "  col = columns[i+6]\n",
        "  x = sns.countplot(data=customers, x=customers[col].map(column_str[col]), ax=ax, order=column_str[col].values())\n",
        "\n",
        "  for p in x.patches:\n",
        "    height = p.get_height()\n",
        "    x.text(p.get_x()+p.get_width()/2., height+0.1, height, ha='center', size=15)\n",
        "\n",
        "  ax.set_xlabel('')\n",
        "  ax.set_xticklabels(x.get_xticklabels(), rotation=45, fontsize=13, horizontalalignment='right')\n",
        "  ax.set_ylabel('')\n",
        "  ax.set_title(col_names[i+6]+' 분포 ('+str(len(customers)-np.isnan(customers[col]).sum())+'명)', fontsize=15)\n",
        "\n",
        "fig.tight_layout()\n",
        "plt.show()"
      ],
      "execution_count": 16,
      "outputs": [
        {
          "output_type": "display_data",
          "data": {
            "image/png": "[encoded data removed]",
            "text/plain": [
              "<Figure size 1440x504 with 3 Axes>"
            ]
          },
          "metadata": {
            "needs_background": "light"
          }
        }
      ]
    },
    {
      "cell_type": "markdown",
      "metadata": {
        "id": "nQQ5gatMf4sc"
      },
      "source": [
        "- 등급 분포\n",
        "  - 결측치가 기록된 인원은 총 37명입니다.\n",
        "  - 많은 수의 고객이 등급이 정의되어있지 않습니다.  \n",
        "  - 등급이 미정의된 고객을 제외하고 가장 많은 등급은 블루이고 다음으로는 그린입니다.\n",
        "\n",
        "- 투자기간 분포\n",
        "  - 많은 수의 인원이 1년~3년 미만의 기간동안 투자를 하고 있습니다.\n",
        "  - 대부분의 고객이 6개월 ~ 3년 사이의 투자기간을 갖고 있습니다.\n",
        "  - 1년미만은 단기, 5년미만은 중기 5년이상을 장기라 했을때 중단기 고객이 가장 많은 상황입니다.  \n",
        "  이후에 필요에 따라 3개의 단계로 나눠서 분석을 할 필요도 있을 것으로 보입니다.\n",
        "\n",
        "- 주거래업종 분포\n",
        "  - 많은 수의 고객은 제조업을 주로 거래하고 있습니다.\n",
        "  - 다음으로는 비매매 고객이 많습니다.\n",
        "  - 2020년 기준으로 Covid-19이후 바이오 관련 업종이 강세를 보이고 있는 것을  \n",
        "  참고할 가치가 있다고 판단됩니다."
      ]
    },
    {
      "cell_type": "markdown",
      "metadata": {
        "id": "mIv3pjCraw5t"
      },
      "source": [
        "### 주식종목 정보 데이터 (iem_info.csv) - stock_info\n",
        "\n",
        "전체 기업 및 주식종목의 수는 3079개입니다."
      ]
    },
    {
      "cell_type": "code",
      "metadata": {
        "colab": {
          "base_uri": "https://localhost:8080/",
          "height": 513
        },
        "id": "8KyYLHkedB-y",
        "outputId": "b9c7362d-3da7-418d-fac9-04b785472ddb"
      },
      "source": [
        "fig, axes = plt.subplots(1, 3, figsize=(20, 7))\n",
        "\n",
        "columns = stock_info.columns[2:]\n",
        "col_names = ['종목업종', '시가총액 규모유형', '시장구분']\n",
        "\n",
        "for i, ax in zip(range(3), axes.flatten()):\n",
        "  col = columns[i]\n",
        "  x = sns.countplot(data=stock_info, x=stock_info[col].map(column_str[col]), ax=ax, order=column_str[col].values())\n",
        "\n",
        "  for p in x.patches:\n",
        "    height = p.get_height()\n",
        "    x.text(p.get_x()+p.get_width()/2., height+0.1, height, ha='center', size=15)\n",
        "  \n",
        "  ax.set_xlabel('')\n",
        "  ax.set_xticklabels(x.get_xticklabels(), fontsize=13)\n",
        "  ax.set_ylabel('')\n",
        "  ax.set_title(col_names[i]+' 분포 ('+str(len(stock_info)-np.isnan(stock_info[col]).sum())+'명)', fontsize=15)\n",
        "\n",
        "fig.tight_layout()\n",
        "plt.show()"
      ],
      "execution_count": 17,
      "outputs": [
        {
          "output_type": "display_data",
          "data": {
            "image/png": "[encoded data removed]",
            "text/plain": [
              "<Figure size 1440x504 with 3 Axes>"
            ]
          },
          "metadata": {
            "needs_background": "light"
          }
        }
      ]
    },
    {
      "cell_type": "code",
      "metadata": {
        "colab": {
          "base_uri": "https://localhost:8080/",
          "height": 142
        },
        "id": "4R7PBsZmeg3g",
        "outputId": "8a09b729-cbe8-4404-e03d-a4fb0476174f"
      },
      "source": [
        "stock_info[stock_info['btp_cfc_cd'] == 14].head(3)"
      ],
      "execution_count": 18,
      "outputs": [
        {
          "output_type": "execute_result",
          "data": {
            "text/html": [
              "<div>\n",
              "<style scoped>\n",
              "    .dataframe tbody tr th:only-of-type {\n",
              "        vertical-align: middle;\n",
              "    }\n",
              "\n",
              "    .dataframe tbody tr th {\n",
              "        vertical-align: top;\n",
              "    }\n",
              "\n",
              "    .dataframe thead th {\n",
              "        text-align: right;\n",
              "    }\n",
              "</style>\n",
              "<table border=\"1\" class=\"dataframe\">\n",
              "  <thead>\n",
              "    <tr style=\"text-align: right;\">\n",
              "      <th></th>\n",
              "      <th>iem_cd</th>\n",
              "      <th>iem_krl_nm</th>\n",
              "      <th>btp_cfc_cd</th>\n",
              "      <th>mkt_pr_tal_scl_tp_cd</th>\n",
              "      <th>stk_dit_cd</th>\n",
              "    </tr>\n",
              "  </thead>\n",
              "  <tbody>\n",
              "    <tr>\n",
              "      <th>1</th>\n",
              "      <td>A000080</td>\n",
              "      <td>하이트진로</td>\n",
              "      <td>14</td>\n",
              "      <td>2</td>\n",
              "      <td>1</td>\n",
              "    </tr>\n",
              "    <tr>\n",
              "      <th>11</th>\n",
              "      <td>A001070</td>\n",
              "      <td>대한방직</td>\n",
              "      <td>14</td>\n",
              "      <td>3</td>\n",
              "      <td>99</td>\n",
              "    </tr>\n",
              "    <tr>\n",
              "      <th>16</th>\n",
              "      <td>A001460</td>\n",
              "      <td>BYC</td>\n",
              "      <td>14</td>\n",
              "      <td>3</td>\n",
              "      <td>99</td>\n",
              "    </tr>\n",
              "  </tbody>\n",
              "</table>\n",
              "</div>"
            ],
            "text/plain": [
              "     iem_cd iem_krl_nm  btp_cfc_cd  mkt_pr_tal_scl_tp_cd  stk_dit_cd\n",
              "1   A000080      하이트진로          14                     2           1\n",
              "11  A001070       대한방직          14                     3          99\n",
              "16  A001460        BYC          14                     3          99"
            ]
          },
          "metadata": {},
          "execution_count": 18
        }
      ]
    },
    {
      "cell_type": "code",
      "metadata": {
        "colab": {
          "base_uri": "https://localhost:8080/",
          "height": 80
        },
        "id": "Aq-DbkRDe0aR",
        "outputId": "1322385c-4c3b-4a7c-c154-47d3732c58b7"
      },
      "source": [
        "stock_info[stock_info['iem_cd'] == 'A300610']"
      ],
      "execution_count": 19,
      "outputs": [
        {
          "output_type": "execute_result",
          "data": {
            "text/html": [
              "<div>\n",
              "<style scoped>\n",
              "    .dataframe tbody tr th:only-of-type {\n",
              "        vertical-align: middle;\n",
              "    }\n",
              "\n",
              "    .dataframe tbody tr th {\n",
              "        vertical-align: top;\n",
              "    }\n",
              "\n",
              "    .dataframe thead th {\n",
              "        text-align: right;\n",
              "    }\n",
              "</style>\n",
              "<table border=\"1\" class=\"dataframe\">\n",
              "  <thead>\n",
              "    <tr style=\"text-align: right;\">\n",
              "      <th></th>\n",
              "      <th>iem_cd</th>\n",
              "      <th>iem_krl_nm</th>\n",
              "      <th>btp_cfc_cd</th>\n",
              "      <th>mkt_pr_tal_scl_tp_cd</th>\n",
              "      <th>stk_dit_cd</th>\n",
              "    </tr>\n",
              "  </thead>\n",
              "  <tbody>\n",
              "    <tr>\n",
              "      <th>676</th>\n",
              "      <td>A300610</td>\n",
              "      <td>TIGER K게임</td>\n",
              "      <td>14</td>\n",
              "      <td>99</td>\n",
              "      <td>99</td>\n",
              "    </tr>\n",
              "  </tbody>\n",
              "</table>\n",
              "</div>"
            ],
            "text/plain": [
              "      iem_cd iem_krl_nm  btp_cfc_cd  mkt_pr_tal_scl_tp_cd  stk_dit_cd\n",
              "676  A300610  TIGER K게임          14                    99          99"
            ]
          },
          "metadata": {},
          "execution_count": 19
        }
      ]
    },
    {
      "cell_type": "code",
      "metadata": {
        "colab": {
          "base_uri": "https://localhost:8080/",
          "height": 359
        },
        "id": "hWsKx4LsiLDL",
        "outputId": "5da8ebeb-f06c-4beb-e177-408dd907babf"
      },
      "source": [
        "stock_info[stock_info['mkt_pr_tal_scl_tp_cd'] == 99].sample(10)"
      ],
      "execution_count": 20,
      "outputs": [
        {
          "output_type": "execute_result",
          "data": {
            "text/html": [
              "<div>\n",
              "<style scoped>\n",
              "    .dataframe tbody tr th:only-of-type {\n",
              "        vertical-align: middle;\n",
              "    }\n",
              "\n",
              "    .dataframe tbody tr th {\n",
              "        vertical-align: top;\n",
              "    }\n",
              "\n",
              "    .dataframe thead th {\n",
              "        text-align: right;\n",
              "    }\n",
              "</style>\n",
              "<table border=\"1\" class=\"dataframe\">\n",
              "  <thead>\n",
              "    <tr style=\"text-align: right;\">\n",
              "      <th></th>\n",
              "      <th>iem_cd</th>\n",
              "      <th>iem_krl_nm</th>\n",
              "      <th>btp_cfc_cd</th>\n",
              "      <th>mkt_pr_tal_scl_tp_cd</th>\n",
              "      <th>stk_dit_cd</th>\n",
              "    </tr>\n",
              "  </thead>\n",
              "  <tbody>\n",
              "    <tr>\n",
              "      <th>475</th>\n",
              "      <td>A139270</td>\n",
              "      <td>TIGER 200 금융</td>\n",
              "      <td>14</td>\n",
              "      <td>99</td>\n",
              "      <td>99</td>\n",
              "    </tr>\n",
              "    <tr>\n",
              "      <th>426</th>\n",
              "      <td>A108675</td>\n",
              "      <td>LX하우시스우</td>\n",
              "      <td>12</td>\n",
              "      <td>99</td>\n",
              "      <td>99</td>\n",
              "    </tr>\n",
              "    <tr>\n",
              "      <th>2210</th>\n",
              "      <td>A298770</td>\n",
              "      <td>KODEX 한국대만IT프리미어</td>\n",
              "      <td>14</td>\n",
              "      <td>99</td>\n",
              "      <td>99</td>\n",
              "    </tr>\n",
              "    <tr>\n",
              "      <th>2828</th>\n",
              "      <td>A194530</td>\n",
              "      <td>엔에스스튜디오</td>\n",
              "      <td>14</td>\n",
              "      <td>99</td>\n",
              "      <td>99</td>\n",
              "    </tr>\n",
              "    <tr>\n",
              "      <th>2220</th>\n",
              "      <td>A305720</td>\n",
              "      <td>KODEX 2차전지산업</td>\n",
              "      <td>14</td>\n",
              "      <td>99</td>\n",
              "      <td>99</td>\n",
              "    </tr>\n",
              "    <tr>\n",
              "      <th>678</th>\n",
              "      <td>A301410</td>\n",
              "      <td>ARIRANG 코스닥150선물인버스</td>\n",
              "      <td>14</td>\n",
              "      <td>99</td>\n",
              "      <td>99</td>\n",
              "    </tr>\n",
              "    <tr>\n",
              "      <th>755</th>\n",
              "      <td>A371460</td>\n",
              "      <td>TIGER 차이나전기차SOLACTIVE</td>\n",
              "      <td>14</td>\n",
              "      <td>99</td>\n",
              "      <td>99</td>\n",
              "    </tr>\n",
              "    <tr>\n",
              "      <th>128</th>\n",
              "      <td>A009900</td>\n",
              "      <td>명신산업</td>\n",
              "      <td>6</td>\n",
              "      <td>99</td>\n",
              "      <td>99</td>\n",
              "    </tr>\n",
              "    <tr>\n",
              "      <th>1359</th>\n",
              "      <td>A252670</td>\n",
              "      <td>KODEX 200선물인버스2X</td>\n",
              "      <td>14</td>\n",
              "      <td>99</td>\n",
              "      <td>99</td>\n",
              "    </tr>\n",
              "    <tr>\n",
              "      <th>1235</th>\n",
              "      <td>A139260</td>\n",
              "      <td>TIGER 200 IT</td>\n",
              "      <td>14</td>\n",
              "      <td>99</td>\n",
              "      <td>99</td>\n",
              "    </tr>\n",
              "  </tbody>\n",
              "</table>\n",
              "</div>"
            ],
            "text/plain": [
              "       iem_cd             iem_krl_nm  ...  mkt_pr_tal_scl_tp_cd  stk_dit_cd\n",
              "475   A139270           TIGER 200 금융  ...                    99          99\n",
              "426   A108675                LX하우시스우  ...                    99          99\n",
              "2210  A298770       KODEX 한국대만IT프리미어  ...                    99          99\n",
              "2828  A194530                엔에스스튜디오  ...                    99          99\n",
              "2220  A305720           KODEX 2차전지산업  ...                    99          99\n",
              "678   A301410    ARIRANG 코스닥150선물인버스  ...                    99          99\n",
              "755   A371460  TIGER 차이나전기차SOLACTIVE  ...                    99          99\n",
              "128   A009900                   명신산업  ...                    99          99\n",
              "1359  A252670       KODEX 200선물인버스2X  ...                    99          99\n",
              "1235  A139260           TIGER 200 IT  ...                    99          99\n",
              "\n",
              "[10 rows x 5 columns]"
            ]
          },
          "metadata": {},
          "execution_count": 20
        }
      ]
    },
    {
      "cell_type": "markdown",
      "metadata": {
        "id": "eCR9Jr1OfrAX"
      },
      "source": [
        "- 종목업종 분포\n",
        "  - 종목업종은 분류를 14가지로 분류되어 있습니다. 크게 세분화하지 않은 데이터라  \n",
        "  기타의 비율이 상당히 많습니다.\n",
        "  - 실제로 위에 보이는 3개의 기타 업종 예시를 보면 하이트진로, 대한방직, BYC가 있습니다.  \n",
        "  이때 하이트진로는 코스피에 음식료품으로 등록되어있고 대한방직과 BYC는 섬유의복으로 분류되어 있습니다.  \n",
        "  이를 참고하여 업종을 재분류할 가치도 있어 보입니다.\n",
        "  - 또한 기타 업종에는 'TIGER K게임'과 같은 ETF도 존재하기 때문에 업종은 더 세분화하는 분류작업을 진행해야합니다.\n",
        "\n",
        "- 시가총액 규모유형 분포\n",
        "  - 많은 수의 기업이 소형주로 분류되고 있습니다.\n",
        "  - 기타로 분류된 기업들은 대부분 우선주나 ETF인 것을 알 수 있습니다.\n",
        "  - 일부 '프라나랩', '퓨젠바이오'와 같은 비상장 기업도 존재하는 것을 알 수 있습니다.\n",
        "  - 상황에 따라 ETF와 비상장, 우선주와 같은 세부 구분을 할 필요가 있습니다.\n",
        "\n",
        "- 시장구분 분포\n",
        "  - 코스피 200과 코스닥 150은 상위 기업들만 포함되어 있습니다.  \n",
        "  하지만 많은 수의 기업이 이 외에 코스피와 코스닥에 분류되어 있으므로 기타를 재분류해야 할 필요가 있습니다."
      ]
    },
    {
      "cell_type": "markdown",
      "metadata": {
        "id": "l-GV6CydkMgX"
      },
      "source": [
        "### 학습데이터 (stk_hld_train.csv) - train\n",
        "\n",
        "학습데이터의 주식 보유기간 분포를 확인하고자 통계수치를 확인하겠습니다."
      ]
    },
    {
      "cell_type": "code",
      "metadata": {
        "colab": {
          "base_uri": "https://localhost:8080/",
          "height": 297
        },
        "id": "KSW5TRqiqwhI",
        "outputId": "0236d4ec-563f-4a2e-b6e1-923d64dd9276"
      },
      "source": [
        "tmp = pd.DataFrame()\n",
        "t = train['hold_d'].value_counts()\n",
        "tmp['hold_d'] = t.index\n",
        "tmp['counts'] = t.values\n",
        "tmp.describe()"
      ],
      "execution_count": 21,
      "outputs": [
        {
          "output_type": "execute_result",
          "data": {
            "text/html": [
              "<div>\n",
              "<style scoped>\n",
              "    .dataframe tbody tr th:only-of-type {\n",
              "        vertical-align: middle;\n",
              "    }\n",
              "\n",
              "    .dataframe tbody tr th {\n",
              "        vertical-align: top;\n",
              "    }\n",
              "\n",
              "    .dataframe thead th {\n",
              "        text-align: right;\n",
              "    }\n",
              "</style>\n",
              "<table border=\"1\" class=\"dataframe\">\n",
              "  <thead>\n",
              "    <tr style=\"text-align: right;\">\n",
              "      <th></th>\n",
              "      <th>hold_d</th>\n",
              "      <th>counts</th>\n",
              "    </tr>\n",
              "  </thead>\n",
              "  <tbody>\n",
              "    <tr>\n",
              "      <th>count</th>\n",
              "      <td>774.0000</td>\n",
              "      <td>774.0000</td>\n",
              "    </tr>\n",
              "    <tr>\n",
              "      <th>mean</th>\n",
              "      <td>394.1163</td>\n",
              "      <td>880.4548</td>\n",
              "    </tr>\n",
              "    <tr>\n",
              "      <th>std</th>\n",
              "      <td>237.2953</td>\n",
              "      <td>8029.8685</td>\n",
              "    </tr>\n",
              "    <tr>\n",
              "      <th>min</th>\n",
              "      <td>1.0000</td>\n",
              "      <td>1.0000</td>\n",
              "    </tr>\n",
              "    <tr>\n",
              "      <th>25%</th>\n",
              "      <td>194.2500</td>\n",
              "      <td>8.0000</td>\n",
              "    </tr>\n",
              "    <tr>\n",
              "      <th>50%</th>\n",
              "      <td>387.5000</td>\n",
              "      <td>24.0000</td>\n",
              "    </tr>\n",
              "    <tr>\n",
              "      <th>75%</th>\n",
              "      <td>580.7500</td>\n",
              "      <td>89.0000</td>\n",
              "    </tr>\n",
              "    <tr>\n",
              "      <th>max</th>\n",
              "      <td>1184.0000</td>\n",
              "      <td>190008.0000</td>\n",
              "    </tr>\n",
              "  </tbody>\n",
              "</table>\n",
              "</div>"
            ],
            "text/plain": [
              "         hold_d      counts\n",
              "count  774.0000    774.0000\n",
              "mean   394.1163    880.4548\n",
              "std    237.2953   8029.8685\n",
              "min      1.0000      1.0000\n",
              "25%    194.2500      8.0000\n",
              "50%    387.5000     24.0000\n",
              "75%    580.7500     89.0000\n",
              "max   1184.0000 190008.0000"
            ]
          },
          "metadata": {},
          "execution_count": 21
        }
      ]
    },
    {
      "cell_type": "code",
      "metadata": {
        "colab": {
          "base_uri": "https://localhost:8080/",
          "height": 686
        },
        "id": "nfbbzEuJrHOH",
        "outputId": "23b1054b-d8d2-4148-d056-36d50412632d"
      },
      "source": [
        "fig, ax = plt.subplots(figsize=(30, 13))\n",
        "tmp = tmp[0:len(tmp)//10] # percentile 10\n",
        "x = sns.barplot(data=tmp, x='hold_d', y='counts', ax=ax)\n",
        "ax.set_title('주식보유기간 카운트 상위 10%', fontsize=20)\n",
        "ax.set_xticklabels(x.get_xticklabels(), fontsize=15)\n",
        "plt.show()"
      ],
      "execution_count": 22,
      "outputs": [
        {
          "output_type": "display_data",
          "data": {
            "image/png": "[encoded data removed]",
            "text/plain": [
              "<Figure size 2160x936 with 1 Axes>"
            ]
          },
          "metadata": {
            "needs_background": "light"
          }
        }
      ]
    },
    {
      "cell_type": "markdown",
      "metadata": {
        "id": "BVQY0EqfG6hH"
      },
      "source": [
        "주식보유기간별 데이터 카운트의 상위 10% 값들을 그래프로 나타낸 것입니다.  \n",
        "대부분의 주식이 1일이내의 주식 보유기간을 갖고 있으며 가장 최장기간 보유하고 있는 주식은 1184일 (약 3년 2개월)입니다."
      ]
    },
    {
      "cell_type": "markdown",
      "metadata": {
        "id": "K50hTNMKH1Vr"
      },
      "source": [
        "## 2. 추가 정보 크롤링"
      ]
    },
    {
      "cell_type": "markdown",
      "metadata": {
        "id": "f1xycMboH5Vl"
      },
      "source": [
        "주식종목 정보를 담고 있는 iem_info데이터에서 일부 컬럼은 재분류를 해야하는 것들이 존재했습니다.  \n",
        "따라서 크롤링을 진행하겠습니다. 크롤링은 다음 증권 데이터를 사용하겠습니다."
      ]
    },
    {
      "cell_type": "code",
      "metadata": {
        "id": "_qXQUUOKH3_n"
      },
      "source": [
        "from bs4 import BeautifulSoup\n",
        "import requests\n",
        "import re\n",
        "import parmap\n",
        "from multiprocessing import Pool, Manager"
      ],
      "execution_count": 23,
      "outputs": []
    },
    {
      "cell_type": "code",
      "metadata": {
        "id": "El4UinnoZGXC"
      },
      "source": [
        "def get_market(code):\n",
        "  df = pd.DataFrame()\n",
        "\n",
        "  url = 'https://finance.daum.net/api/quotes/'+code+'?summary=false&changeStatistics=true'\n",
        "  headers = {\n",
        "            'Referer': 'http://finance.daum.net',\n",
        "            'User-Agent':'Mozilla/5.0 (Windows NT 6.1) AppleWebKit/537.36 (KHTML, like Gecko) Chrome/71.0.3578.98 Safari/537.36 OPR/58.0.3135.127'\n",
        "            }\n",
        "  \n",
        "  try:\n",
        "    response = requests.get(url, headers=headers)\n",
        "    obj = response.json()\n",
        "\n",
        "    name = obj['name']\n",
        "    market = obj['market']\n",
        "    sector_name = obj['sectorName']\n",
        "    sector_code = obj['sectorCode']\n",
        "    group = obj['securityGroup']\n",
        "\n",
        "    code_list.append(code)\n",
        "    market_list.append(market)\n",
        "  except:\n",
        "    # 비상장 기업이라 정보 없음 따로 처리\n",
        "    code_list.append(code)\n",
        "    market_list.append('비상장 또는 상장폐지')"
      ],
      "execution_count": 144,
      "outputs": []
    },
    {
      "cell_type": "markdown",
      "metadata": {
        "id": "OLbPk0GAvZ17"
      },
      "source": [
        "### 시장구분 추가 크롤링"
      ]
    },
    {
      "cell_type": "code",
      "metadata": {
        "colab": {
          "base_uri": "https://localhost:8080/"
        },
        "id": "Pj9xSi8JJjsf",
        "outputId": "7b16a1ec-8b8d-403c-91df-c5eb06f1baa2"
      },
      "source": [
        "codes = stock_info.loc[(stock_info['stk_dit_cd'] == 99) | (np.isnan(stock_info['stk_dit_cd']))]['iem_cd'].values\n",
        "manager = Manager()\n",
        "code_list = manager.list()\n",
        "market_list = manager.list()\n",
        "\n",
        "ret = parmap.map(get_market, codes, pm_pbar=True, pm_processes=5)"
      ],
      "execution_count": 51,
      "outputs": [
        {
          "output_type": "stream",
          "name": "stderr",
          "text": [
            "2740it [07:30,  6.09it/s]\n"
          ]
        }
      ]
    },
    {
      "cell_type": "code",
      "metadata": {
        "colab": {
          "base_uri": "https://localhost:8080/",
          "height": 204
        },
        "id": "XUCoIo4PctCk",
        "outputId": "78e3aba2-1d5f-499e-ad9d-ae080b2fc89d"
      },
      "source": [
        "code_list = list(code_list)\n",
        "market_list = list(market_list)\n",
        "df = pd.DataFrame({'iem_cd':code_list, 'market':market_list})\n",
        "df['market'] = df['market'].apply(lambda x: 3 if x == 'KOSPI' else (4 if x == 'KOSDAQ' else 99))\n",
        "df.sample(5)"
      ],
      "execution_count": 95,
      "outputs": [
        {
          "output_type": "execute_result",
          "data": {
            "text/html": [
              "<div>\n",
              "<style scoped>\n",
              "    .dataframe tbody tr th:only-of-type {\n",
              "        vertical-align: middle;\n",
              "    }\n",
              "\n",
              "    .dataframe tbody tr th {\n",
              "        vertical-align: top;\n",
              "    }\n",
              "\n",
              "    .dataframe thead th {\n",
              "        text-align: right;\n",
              "    }\n",
              "</style>\n",
              "<table border=\"1\" class=\"dataframe\">\n",
              "  <thead>\n",
              "    <tr style=\"text-align: right;\">\n",
              "      <th></th>\n",
              "      <th>iem_cd</th>\n",
              "      <th>market</th>\n",
              "    </tr>\n",
              "  </thead>\n",
              "  <tbody>\n",
              "    <tr>\n",
              "      <th>718</th>\n",
              "      <td>A354200</td>\n",
              "      <td>4</td>\n",
              "    </tr>\n",
              "    <tr>\n",
              "      <th>1775</th>\n",
              "      <td>A305720</td>\n",
              "      <td>3</td>\n",
              "    </tr>\n",
              "    <tr>\n",
              "      <th>2530</th>\n",
              "      <td>A218420</td>\n",
              "      <td>3</td>\n",
              "    </tr>\n",
              "    <tr>\n",
              "      <th>1136</th>\n",
              "      <td>A123700</td>\n",
              "      <td>3</td>\n",
              "    </tr>\n",
              "    <tr>\n",
              "      <th>2524</th>\n",
              "      <td>A138040</td>\n",
              "      <td>3</td>\n",
              "    </tr>\n",
              "  </tbody>\n",
              "</table>\n",
              "</div>"
            ],
            "text/plain": [
              "       iem_cd  market\n",
              "718   A354200       4\n",
              "1775  A305720       3\n",
              "2530  A218420       3\n",
              "1136  A123700       3\n",
              "2524  A138040       3"
            ]
          },
          "metadata": {},
          "execution_count": 95
        }
      ]
    },
    {
      "cell_type": "code",
      "metadata": {
        "colab": {
          "base_uri": "https://localhost:8080/",
          "height": 419
        },
        "id": "hiRcKXzhlS4g",
        "outputId": "9b36c3b8-64f1-4396-acb7-5473131f9124"
      },
      "source": [
        "stk = stock_info.copy()\n",
        "stk = pd.merge(stk, df, how='outer', on='iem_cd')\n",
        "stk['stk_dit_cd'] = stk.apply(lambda x: int(x['market']) if x['stk_dit_cd'] == 99 else int(x['stk_dit_cd']), axis=1)\n",
        "stk = stk.drop(['market'], axis=1)\n",
        "stock_info = stk\n",
        "stock_info.to_csv(INPUT_PATH+'iem_info_crawling.csv', index=False)\n",
        "stock_info"
      ],
      "execution_count": 121,
      "outputs": [
        {
          "output_type": "execute_result",
          "data": {
            "text/html": [
              "<div>\n",
              "<style scoped>\n",
              "    .dataframe tbody tr th:only-of-type {\n",
              "        vertical-align: middle;\n",
              "    }\n",
              "\n",
              "    .dataframe tbody tr th {\n",
              "        vertical-align: top;\n",
              "    }\n",
              "\n",
              "    .dataframe thead th {\n",
              "        text-align: right;\n",
              "    }\n",
              "</style>\n",
              "<table border=\"1\" class=\"dataframe\">\n",
              "  <thead>\n",
              "    <tr style=\"text-align: right;\">\n",
              "      <th></th>\n",
              "      <th>iem_cd</th>\n",
              "      <th>iem_krl_nm</th>\n",
              "      <th>btp_cfc_cd</th>\n",
              "      <th>mkt_pr_tal_scl_tp_cd</th>\n",
              "      <th>stk_dit_cd</th>\n",
              "    </tr>\n",
              "  </thead>\n",
              "  <tbody>\n",
              "    <tr>\n",
              "      <th>0</th>\n",
              "      <td>A000020</td>\n",
              "      <td>동화약품</td>\n",
              "      <td>8</td>\n",
              "      <td>2</td>\n",
              "      <td>3</td>\n",
              "    </tr>\n",
              "    <tr>\n",
              "      <th>1</th>\n",
              "      <td>A000080</td>\n",
              "      <td>하이트진로</td>\n",
              "      <td>14</td>\n",
              "      <td>2</td>\n",
              "      <td>1</td>\n",
              "    </tr>\n",
              "    <tr>\n",
              "      <th>2</th>\n",
              "      <td>A000180</td>\n",
              "      <td>성창기업지주</td>\n",
              "      <td>5</td>\n",
              "      <td>3</td>\n",
              "      <td>3</td>\n",
              "    </tr>\n",
              "    <tr>\n",
              "      <th>3</th>\n",
              "      <td>A000227</td>\n",
              "      <td>유유제약2우B</td>\n",
              "      <td>8</td>\n",
              "      <td>99</td>\n",
              "      <td>3</td>\n",
              "    </tr>\n",
              "    <tr>\n",
              "      <th>4</th>\n",
              "      <td>A000325</td>\n",
              "      <td>노루홀딩스우</td>\n",
              "      <td>2</td>\n",
              "      <td>99</td>\n",
              "      <td>3</td>\n",
              "    </tr>\n",
              "    <tr>\n",
              "      <th>...</th>\n",
              "      <td>...</td>\n",
              "      <td>...</td>\n",
              "      <td>...</td>\n",
              "      <td>...</td>\n",
              "      <td>...</td>\n",
              "    </tr>\n",
              "    <tr>\n",
              "      <th>3074</th>\n",
              "      <td>A383310</td>\n",
              "      <td>에코프로에이치엔</td>\n",
              "      <td>14</td>\n",
              "      <td>99</td>\n",
              "      <td>4</td>\n",
              "    </tr>\n",
              "    <tr>\n",
              "      <th>3075</th>\n",
              "      <td>A385520</td>\n",
              "      <td>KODEX K-미래차액티브</td>\n",
              "      <td>14</td>\n",
              "      <td>99</td>\n",
              "      <td>3</td>\n",
              "    </tr>\n",
              "    <tr>\n",
              "      <th>3076</th>\n",
              "      <td>A388280</td>\n",
              "      <td>KBSTAR Fn컨택트대표</td>\n",
              "      <td>14</td>\n",
              "      <td>99</td>\n",
              "      <td>3</td>\n",
              "    </tr>\n",
              "    <tr>\n",
              "      <th>3077</th>\n",
              "      <td>A388420</td>\n",
              "      <td>KBSTAR 비메모리반도체액티브</td>\n",
              "      <td>14</td>\n",
              "      <td>99</td>\n",
              "      <td>3</td>\n",
              "    </tr>\n",
              "    <tr>\n",
              "      <th>3078</th>\n",
              "      <td>A394350</td>\n",
              "      <td>KOSEF 릭소글로벌퓨처모빌리티MSCI</td>\n",
              "      <td>14</td>\n",
              "      <td>99</td>\n",
              "      <td>3</td>\n",
              "    </tr>\n",
              "  </tbody>\n",
              "</table>\n",
              "<p>3079 rows × 5 columns</p>\n",
              "</div>"
            ],
            "text/plain": [
              "       iem_cd             iem_krl_nm  ...  mkt_pr_tal_scl_tp_cd  stk_dit_cd\n",
              "0     A000020                   동화약품  ...                     2           3\n",
              "1     A000080                  하이트진로  ...                     2           1\n",
              "2     A000180                 성창기업지주  ...                     3           3\n",
              "3     A000227                유유제약2우B  ...                    99           3\n",
              "4     A000325                 노루홀딩스우  ...                    99           3\n",
              "...       ...                    ...  ...                   ...         ...\n",
              "3074  A383310               에코프로에이치엔  ...                    99           4\n",
              "3075  A385520         KODEX K-미래차액티브  ...                    99           3\n",
              "3076  A388280         KBSTAR Fn컨택트대표  ...                    99           3\n",
              "3077  A388420      KBSTAR 비메모리반도체액티브  ...                    99           3\n",
              "3078  A394350  KOSEF 릭소글로벌퓨처모빌리티MSCI  ...                    99           3\n",
              "\n",
              "[3079 rows x 5 columns]"
            ]
          },
          "metadata": {},
          "execution_count": 121
        }
      ]
    },
    {
      "cell_type": "markdown",
      "metadata": {
        "id": "42vpvg0_veu8"
      },
      "source": [
        "### 종목업종 추가 크롤링"
      ]
    },
    {
      "cell_type": "code",
      "metadata": {
        "id": "dZQRdmiZKt3g"
      },
      "source": [
        "def get_sector(code):\n",
        "  dic = { \n",
        "    \"도매\":14, '오락·문화':5, \"의약품\": 8, \"ETF\":16, '전기·가스':9, \"농업\":14, \"디지털컨텐츠\":13, '금융서비스':2,\n",
        "    \"운수장비\":6, \"유통업\":7, \"비금속광물\":10, '연구·개발':8, \"전문기술\":14, \"소프트웨어\":13, 'IT부품':13, \"소매\":5,\n",
        "    '출판·매체복제':10, '기계·장비':10, \"컴퓨터서비스\":13, \"전기,전자\":9, '의료·정밀기기':8, '종이,목재':10, \"금속\":10,\n",
        "    '운송장비·부품':10, '숙박·음식':5, '화학':10, '섬유·의류':10, '건설업':1, '통신장비':13, '연료광업':14, '보험':2, \n",
        "    '금융업':2, '제약':10, '음식료·담배':10, '은행':2, '반도체':13, '방송서비스':4, '일반전기전자':10, '기타 제조':10, \n",
        "    '섬유,의복':10, '의료정밀':8, '음식료품':15}\n",
        "\n",
        "  url = 'https://finance.daum.net/api/quotes/'+code+'?summary=false&changeStatistics=true'\n",
        "  headers = {\n",
        "            'Referer': 'http://finance.daum.net',\n",
        "            'User-Agent':'Mozilla/5.0 (Windows NT 6.1) AppleWebKit/537.36 (KHTML, like Gecko) Chrome/71.0.3578.98 Safari/537.36 OPR/58.0.3135.127'\n",
        "            }\n",
        "  \n",
        "  try:\n",
        "    response = requests.get(url, headers=headers)\n",
        "    obj = response.json()\n",
        "\n",
        "    name = obj['name']\n",
        "    market = obj['market']\n",
        "    sector_name = obj['sectorName']\n",
        "    sector_code = 0\n",
        "    group = obj['securityGroup']\n",
        "\n",
        "    if group == 'ETF':\n",
        "      sector_code = 16\n",
        "    else:\n",
        "      if sector_name in column_str['btp_cfc_cd']:\n",
        "        sector_code = column_str['btp_cfc_cd'][sector_name]\n",
        "      else:\n",
        "        sector_code = dic[sector_name]\n",
        "\n",
        "    code_list.append(code)\n",
        "    sector_list.append(sector_code)\n",
        "  except:\n",
        "    # 비상장 기업이라 정보 없음 따로 처리\n",
        "    code_list.append(code)\n",
        "    sector_list.append(99)"
      ],
      "execution_count": 237,
      "outputs": []
    },
    {
      "cell_type": "code",
      "metadata": {
        "colab": {
          "base_uri": "https://localhost:8080/"
        },
        "id": "K2rc3BXz7XlX",
        "outputId": "2fe74263-4f00-44e8-e85e-c04be3069f9d"
      },
      "source": [
        "codes = stock_info[stock_info['btp_cfc_cd'] == 14]['iem_cd'].values\n",
        "manager = Manager()\n",
        "sector_list = manager.list()\n",
        "code_list = manager.list()\n",
        "\n",
        "ret = parmap.map(get_sector, codes, pm_pbar=True, pm_processes=5)\n",
        "sector_list = list(sector_list)\n",
        "code_list = list(code_list)"
      ],
      "execution_count": 238,
      "outputs": [
        {
          "output_type": "stream",
          "name": "stderr",
          "text": [
            "840it [04:22,  3.20it/s]\n"
          ]
        }
      ]
    },
    {
      "cell_type": "code",
      "metadata": {
        "colab": {
          "base_uri": "https://localhost:8080/",
          "height": 419
        },
        "id": "mnb6zN004mql",
        "outputId": "b91d4f2d-1316-428c-9a31-39109cf68e6f"
      },
      "source": [
        "df = pd.DataFrame({\"iem_cd\": code_list, \"type\":sector_list})\n",
        "s = stock_info.copy()\n",
        "s = pd.merge(s, df, how='outer', on='iem_cd')\n",
        "s['btp_cfc_cd'] = s.apply(lambda x: int(x['type']) if x['btp_cfc_cd'] == 14 else int(x['btp_cfc_cd']), axis=1)\n",
        "s = s.drop(['type'], axis=1)\n",
        "stock_info = s\n",
        "stock_info"
      ],
      "execution_count": 249,
      "outputs": [
        {
          "output_type": "execute_result",
          "data": {
            "text/html": [
              "<div>\n",
              "<style scoped>\n",
              "    .dataframe tbody tr th:only-of-type {\n",
              "        vertical-align: middle;\n",
              "    }\n",
              "\n",
              "    .dataframe tbody tr th {\n",
              "        vertical-align: top;\n",
              "    }\n",
              "\n",
              "    .dataframe thead th {\n",
              "        text-align: right;\n",
              "    }\n",
              "</style>\n",
              "<table border=\"1\" class=\"dataframe\">\n",
              "  <thead>\n",
              "    <tr style=\"text-align: right;\">\n",
              "      <th></th>\n",
              "      <th>iem_cd</th>\n",
              "      <th>iem_krl_nm</th>\n",
              "      <th>btp_cfc_cd</th>\n",
              "      <th>mkt_pr_tal_scl_tp_cd</th>\n",
              "      <th>stk_dit_cd</th>\n",
              "    </tr>\n",
              "  </thead>\n",
              "  <tbody>\n",
              "    <tr>\n",
              "      <th>0</th>\n",
              "      <td>A000020</td>\n",
              "      <td>동화약품</td>\n",
              "      <td>8</td>\n",
              "      <td>2</td>\n",
              "      <td>3</td>\n",
              "    </tr>\n",
              "    <tr>\n",
              "      <th>1</th>\n",
              "      <td>A000080</td>\n",
              "      <td>하이트진로</td>\n",
              "      <td>15</td>\n",
              "      <td>2</td>\n",
              "      <td>1</td>\n",
              "    </tr>\n",
              "    <tr>\n",
              "      <th>2</th>\n",
              "      <td>A000180</td>\n",
              "      <td>성창기업지주</td>\n",
              "      <td>5</td>\n",
              "      <td>3</td>\n",
              "      <td>3</td>\n",
              "    </tr>\n",
              "    <tr>\n",
              "      <th>3</th>\n",
              "      <td>A000227</td>\n",
              "      <td>유유제약2우B</td>\n",
              "      <td>8</td>\n",
              "      <td>99</td>\n",
              "      <td>3</td>\n",
              "    </tr>\n",
              "    <tr>\n",
              "      <th>4</th>\n",
              "      <td>A000325</td>\n",
              "      <td>노루홀딩스우</td>\n",
              "      <td>2</td>\n",
              "      <td>99</td>\n",
              "      <td>3</td>\n",
              "    </tr>\n",
              "    <tr>\n",
              "      <th>...</th>\n",
              "      <td>...</td>\n",
              "      <td>...</td>\n",
              "      <td>...</td>\n",
              "      <td>...</td>\n",
              "      <td>...</td>\n",
              "    </tr>\n",
              "    <tr>\n",
              "      <th>3074</th>\n",
              "      <td>A383310</td>\n",
              "      <td>에코프로에이치엔</td>\n",
              "      <td>10</td>\n",
              "      <td>99</td>\n",
              "      <td>4</td>\n",
              "    </tr>\n",
              "    <tr>\n",
              "      <th>3075</th>\n",
              "      <td>A385520</td>\n",
              "      <td>KODEX K-미래차액티브</td>\n",
              "      <td>16</td>\n",
              "      <td>99</td>\n",
              "      <td>3</td>\n",
              "    </tr>\n",
              "    <tr>\n",
              "      <th>3076</th>\n",
              "      <td>A388280</td>\n",
              "      <td>KBSTAR Fn컨택트대표</td>\n",
              "      <td>16</td>\n",
              "      <td>99</td>\n",
              "      <td>3</td>\n",
              "    </tr>\n",
              "    <tr>\n",
              "      <th>3077</th>\n",
              "      <td>A388420</td>\n",
              "      <td>KBSTAR 비메모리반도체액티브</td>\n",
              "      <td>16</td>\n",
              "      <td>99</td>\n",
              "      <td>3</td>\n",
              "    </tr>\n",
              "    <tr>\n",
              "      <th>3078</th>\n",
              "      <td>A394350</td>\n",
              "      <td>KOSEF 릭소글로벌퓨처모빌리티MSCI</td>\n",
              "      <td>16</td>\n",
              "      <td>99</td>\n",
              "      <td>3</td>\n",
              "    </tr>\n",
              "  </tbody>\n",
              "</table>\n",
              "<p>3079 rows × 5 columns</p>\n",
              "</div>"
            ],
            "text/plain": [
              "       iem_cd             iem_krl_nm  ...  mkt_pr_tal_scl_tp_cd  stk_dit_cd\n",
              "0     A000020                   동화약품  ...                     2           3\n",
              "1     A000080                  하이트진로  ...                     2           1\n",
              "2     A000180                 성창기업지주  ...                     3           3\n",
              "3     A000227                유유제약2우B  ...                    99           3\n",
              "4     A000325                 노루홀딩스우  ...                    99           3\n",
              "...       ...                    ...  ...                   ...         ...\n",
              "3074  A383310               에코프로에이치엔  ...                    99           4\n",
              "3075  A385520         KODEX K-미래차액티브  ...                    99           3\n",
              "3076  A388280         KBSTAR Fn컨택트대표  ...                    99           3\n",
              "3077  A388420      KBSTAR 비메모리반도체액티브  ...                    99           3\n",
              "3078  A394350  KOSEF 릭소글로벌퓨처모빌리티MSCI  ...                    99           3\n",
              "\n",
              "[3079 rows x 5 columns]"
            ]
          },
          "metadata": {},
          "execution_count": 249
        }
      ]
    },
    {
      "cell_type": "code",
      "metadata": {
        "id": "jF-gXIn5xjLp"
      },
      "source": [
        "stock_type = { 1: \"건설\", 2: \"금융\", 3: \"기계\", 4: \"통신\", 5: \"서비스\", 6: \"운송\", 7: \"유통\", \n",
        "              8: \"의료\", 9: \"전기\", 10: \"제조\", 11: \"철강\", 12: \"화학\", 13: \"IT\", 14: \"기타\",\n",
        "              15: \"음식료\", 16: \"ETF\", 99: \"확인X\"}\n",
        "\n",
        "column_str['btp_cfc_cd'] = stock_type"
      ],
      "execution_count": 259,
      "outputs": []
    },
    {
      "cell_type": "code",
      "metadata": {
        "colab": {
          "base_uri": "https://localhost:8080/",
          "height": 431
        },
        "id": "QJEdtkKfOgx4",
        "outputId": "948cecf1-3de0-44e1-e0fd-8eb7ea5b9304"
      },
      "source": [
        "market_type = { 1: \"코스피200\", 2: \"코스닥150\", 3: \"코스피\", 4: \"코스닥\", 99: \"기타\" }\n",
        "column_str['stk_dit_cd'] = market_type\n",
        "\n",
        "fig, axes = plt.subplots(1, 3, figsize=(25, 7))\n",
        "\n",
        "columns = stock_info.columns[2:]\n",
        "col_names = ['종목업종', '시가총액 규모유형', '시장구분']\n",
        "\n",
        "for i, ax in zip(range(3), axes.flatten()):\n",
        "  col = columns[i]\n",
        "  x = sns.countplot(data=stock_info, x=stock_info[col].map(column_str[col]), ax=ax, order=column_str[col].values())\n",
        "\n",
        "  for p in x.patches:\n",
        "    height = p.get_height()\n",
        "    x.text(p.get_x()+p.get_width()/2., height+0.1, height, ha='center', size=15)\n",
        "  \n",
        "  ax.set_xlabel('')\n",
        "  ax.set_xticklabels(x.get_xticklabels(), fontsize=13)\n",
        "  ax.set_ylabel('')\n",
        "  ax.set_title(col_names[i]+' 분포 ('+str(len(stock_info)-np.isnan(stock_info[col]).sum())+'명)', fontsize=15)\n",
        "\n",
        "fig.tight_layout()\n",
        "plt.show()"
      ],
      "execution_count": 260,
      "outputs": [
        {
          "output_type": "display_data",
          "data": {
            "image/png": "[encoded data removed]",
            "text/plain": [
              "<Figure size 1800x504 with 3 Axes>"
            ]
          },
          "metadata": {
            "needs_background": "light"
          }
        }
      ]
    }
  ]
}