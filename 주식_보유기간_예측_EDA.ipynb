{
  "nbformat": 4,
  "nbformat_minor": 0,
  "metadata": {
    "colab": {
      "name": "주식 보유기간 예측 EDA.ipynb",
      "provenance": [],
      "collapsed_sections": [],
      "toc_visible": true
    },
    "kernelspec": {
      "name": "python3",
      "display_name": "Python 3"
    },
    "language_info": {
      "name": "python"
    }
  },
  "cells": [
    {
      "cell_type": "markdown",
      "metadata": {
        "id": "vPKfndME_SDj"
      },
      "source": [
        "# 대회소개 및 목적"
      ]
    },
    {
      "cell_type": "markdown",
      "metadata": {
        "id": "iSiVOQNnChi2"
      },
      "source": [
        "<p align=\"center\"><img src=\"https://ir.nhqv.com/img/sub/intro_ci.png\"/></p> \n",
        "\n",
        "이 대회는 NH투자증권에서 개최하는 **\"제2회 NH투자증권 빅데이터 경진대회 - 데이터 문화가 되다\"** 입니다.  \n",
        "\n",
        "NH투자증권에서 제공하는 5가지의 데이터셋을 토대로 고객들의 주식 보유기간을 예측하고 이를 활용한 서비스 아이디어를 제안하는 것이 대회의 목적입니다.  \n",
        "\n",
        "예선, 본선, 결선을 통해 진행되며 예선을 통과한 50팀에서 16팀을 선발하여 결선에 진출합니다.  \n",
        "\n",
        "2020년의 데이터를 토대로 2021년의 주식 보유기간을 예측하는 것이 목적입니다.  \n",
        "따라서 대회 개최측에서는 외부 데이터를 사용하는 것을 적극 권장하고 있으며 외부 데이터 사용시 모든 2021년 데이터를 사용하지 않도록 유의하고 있습니다.\n"
      ]
    },
    {
      "cell_type": "markdown",
      "metadata": {
        "id": "RhuammKZSC2f"
      },
      "source": [
        "![](https://drive.google.com/uc?id=1Vh60FlQsg3uJnMf1jqP97Y1z7qk2gLsK)\n",
        "\n",
        "고객들의 투자자산과 무브머니가 계속해서 증가하는 추세에서 증권사는 고객들의 최근 투자패턴 변화에 집중하고 있습니다.  \n",
        "NH투자증권에서는 고객의 변화된 투자패턴을 이해하고 이에 특화된 서비스를 제공하기를 원합니다."
      ]
    },
    {
      "cell_type": "markdown",
      "metadata": {
        "id": "P2CcF2iANJof"
      },
      "source": [
        "## 평가방식\n",
        "\n",
        "이번 대회의 평가방식은 예선, 본선, 결선별로 평가방식이 구분되어집니다.\n",
        "\n",
        "### 예선\n",
        "- 데이콘에서 진행하며 아래 평가지표로 상위 50팀 선발\n",
        "- 주식 보유기간 예측결과 값을 private 리더보드 평가 (80%)\n",
        "- 코드 모델 개발 설명서 평가 (20%)\n",
        "- 주의사항\n",
        "  - 주석과 코드는 모두 UTF-8 인코딩을 사용해야함\n",
        "  - 반드시 코드에 '/data', 데이터 입/출력 경로를 포함해야함\n",
        "  - 개발환경, 라이브러리 버전 기재\n",
        "\n",
        "### 본선\n",
        "- 본선 진출자는 서비스 아이디어 제안서(ppt)를 반드시 제출\n",
        "- 총 4가지의 평가지표로 상위 16팀 선정\n",
        "  - 창의성 : 아이디어, 차별성, 참신성\n",
        "  - 과정성 : 결과 도출까지의 논리성\n",
        "  - 적합성 : 구현 알고리즘/결과에 대한 해석\n",
        "  - 정확성(정량평가) : 알고리즘 오차 점수 - RMSE\n",
        "\n",
        "### 결선\n",
        "- 결선은 쇼케이스로 진행되며 본선 통과 16팀에서 상위 6팀을 수상 (나머지는 입선)\n",
        "- 평가지표\n",
        "  - A. 아이디어 실현 가능성(30%)  \n",
        "    - 아이디어가 실제 실현 가능성이 있는가\n",
        "    - 아이디어가 비즈니스적 임팩트를 기대할 수 있는가\n",
        "\n",
        "  - B. 논리적 일관성(30%)\n",
        "    - 아이디어 전개 과정에서 탄탄한 자료로 이어져 있는가\n",
        "    - 근거 있는 자료를 제시하고 적합하게 사용되었는가\n",
        "\n",
        "  - C. 내용의 창의성(20%)\n",
        "    - 주제에 대한 독특한 아이디어와 창의적인 관점이 제시되어 있는가\n",
        "    - 새로운 발상, 독특한 콘셉트 요소가 있는가\n",
        "\n",
        "  - D. 자료의 완결성(10%)\n",
        "    - 보고서가 성의 있고 짜임새 있게 구성되어 있는가\n",
        "    - 참가자의 노력이 잘 드러나는가\n",
        "\n",
        "  - E. 발표 능력(10%)\n",
        "    - 발표가 자신감 있고 자연스러운가\n",
        "    - Q&A에 대한 대응이 매끄럽고, 논리적으로 문제가 없는가\n"
      ]
    },
    {
      "cell_type": "markdown",
      "metadata": {
        "id": "8N_Lb_W-RV17"
      },
      "source": [
        "## 정확도 평가지표 (RMSE)\n",
        "예선 및 본선에서 평가지표로 활용되는 지표는 RMSE입니다.  \n",
        "\n",
        "### 평균 제곱근 편자 - RMSE (Root Mean Squared Error)\n",
        "\n",
        "$$\n",
        "\\text{RMSE} = \\sqrt{\\frac{\\sum_{i=1}^{N}{(Y_{i}-\\widehat{Y_{i}}})^2}{N}}\n",
        "$$\n",
        "\n",
        "- $N$ : 데이터 개수\n",
        "- $Y_i$ : 보유일수 실제값\n",
        "- $\\widehat{Y_i}$ : 보유일수 예측값\n",
        "\n"
      ]
    },
    {
      "cell_type": "code",
      "metadata": {
        "id": "v3qvnIk5_Jgz"
      },
      "source": [
        "import numpy as np\n",
        "import pandas as pd\n",
        "import matplotlib.pyplot as plt\n",
        "import seaborn as sns\n",
        "import warnings\n",
        "import os\n",
        "import platform\n",
        "import missingno as msno\n",
        "from matplotlib import font_manager, rc\n",
        "from tqdm import tqdm_notebook, tqdm"
      ],
      "execution_count": 146,
      "outputs": []
    },
    {
      "cell_type": "markdown",
      "metadata": {
        "id": "vow-yGAKtOGC"
      },
      "source": [
        "## Settings"
      ]
    },
    {
      "cell_type": "code",
      "metadata": {
        "id": "WBkZtMq6pk20"
      },
      "source": [
        "!sudo apt-get install -y fonts-nanum\n",
        "!sudo fc-cache -fv\n",
        "!rm ~/.cache/matplotlib -rf"
      ],
      "execution_count": null,
      "outputs": []
    },
    {
      "cell_type": "code",
      "metadata": {
        "id": "i_gHC5utAfy7"
      },
      "source": [
        "# font settings - local (로컬 실행시 각주제거하고 font settings - colab 주석처리)\n",
        "\"\"\"\n",
        "if platform.system() == 'Windows':\n",
        "    font_name = font_manager.FontProperties(fname='c:/Windows/Fonts/malgun.ttf').get_name()\n",
        "    rc('font', family=font_name)\n",
        "else:\n",
        "    rc('font', family='AppleGothic')\n",
        "mpl.rcParams['axes.unicode_minus'] = False\n",
        "\"\"\"\n",
        "\n",
        "# font settings - colab\n",
        "plt.rc('font', family='NanumBarunGothic') \n",
        "\n",
        "# pandas 부동소수점\n",
        "pd.options.display.float_format = '{:.4f}'.format\n",
        "\n",
        "# seaborn palette setting\n",
        "palettes = sns.color_palette(\"Paired\", 9)\n",
        "sns.set_palette('muted')\n",
        "\n",
        "# python warning ignore setting\n",
        "warnings.filterwarnings('ignore')\n",
        "\n",
        "# tqdm setting\n",
        "tqdm.pandas()\n",
        "\n",
        "# data input, output path setting\n",
        "INPUT_PATH = 'drive/MyDrive/dataset/dacon/nh/'\n",
        "OUTPUT_PATH = 'drive/MyDrive/dataset/dacon/nh/submisions/'"
      ],
      "execution_count": 147,
      "outputs": []
    },
    {
      "cell_type": "code",
      "metadata": {
        "colab": {
          "base_uri": "https://localhost:8080/"
        },
        "id": "HM9MVafnAirZ",
        "outputId": "7fc501a9-20ce-4bd3-8aab-c89d3975d788"
      },
      "source": [
        "os.listdir(INPUT_PATH)"
      ],
      "execution_count": 4,
      "outputs": [
        {
          "output_type": "execute_result",
          "data": {
            "text/plain": [
              "['cus_info.csv',\n",
              " 'iem_info.csv',\n",
              " 'sample_submission.csv',\n",
              " 'stk_hld_test.csv',\n",
              " 'stk_hld_train.csv',\n",
              " 'stk_bnc_hist.csv',\n",
              " 'data column info.xlsx',\n",
              " 'dacon_baseline.csv',\n",
              " 'img',\n",
              " '.ipynb_checkpoints']"
            ]
          },
          "metadata": {},
          "execution_count": 4
        }
      ]
    },
    {
      "cell_type": "markdown",
      "metadata": {
        "id": "_1L2TbcwCbv9"
      },
      "source": [
        "# 데이터 로드 및 확인"
      ]
    },
    {
      "cell_type": "code",
      "metadata": {
        "id": "RbvFpajwBC6l"
      },
      "source": [
        "customers = pd.read_csv(INPUT_PATH+'cus_info.csv')\n",
        "stock_info = pd.read_csv(INPUT_PATH+'iem_info.csv')\n",
        "stock_rem_hist = pd.read_csv(INPUT_PATH+'stk_bnc_hist.csv')\n",
        "train = pd.read_csv(INPUT_PATH+'stk_hld_train.csv')\n",
        "test = pd.read_csv(INPUT_PATH+'stk_hld_test.csv')"
      ],
      "execution_count": 161,
      "outputs": []
    },
    {
      "cell_type": "code",
      "metadata": {
        "colab": {
          "base_uri": "https://localhost:8080/",
          "height": 162
        },
        "id": "01aZjVSUBvuw",
        "outputId": "39df6a0f-8022-4d48-a2d1-50afc96d215d"
      },
      "source": [
        "customers.head(3)"
      ],
      "execution_count": 6,
      "outputs": [
        {
          "output_type": "execute_result",
          "data": {
            "text/html": [
              "<div>\n",
              "<style scoped>\n",
              "    .dataframe tbody tr th:only-of-type {\n",
              "        vertical-align: middle;\n",
              "    }\n",
              "\n",
              "    .dataframe tbody tr th {\n",
              "        vertical-align: top;\n",
              "    }\n",
              "\n",
              "    .dataframe thead th {\n",
              "        text-align: right;\n",
              "    }\n",
              "</style>\n",
              "<table border=\"1\" class=\"dataframe\">\n",
              "  <thead>\n",
              "    <tr style=\"text-align: right;\">\n",
              "      <th></th>\n",
              "      <th>act_id</th>\n",
              "      <th>sex_dit_cd</th>\n",
              "      <th>cus_age_stn_cd</th>\n",
              "      <th>ivs_icn_cd</th>\n",
              "      <th>cus_aet_stn_cd</th>\n",
              "      <th>mrz_pdt_tp_sgm_cd</th>\n",
              "      <th>lsg_sgm_cd</th>\n",
              "      <th>tco_cus_grd_cd</th>\n",
              "      <th>tot_ivs_te_sgm_cd</th>\n",
              "      <th>mrz_btp_dit_cd</th>\n",
              "    </tr>\n",
              "  </thead>\n",
              "  <tbody>\n",
              "    <tr>\n",
              "      <th>0</th>\n",
              "      <td>64aae8dd71e5c0761000db9f9a6779e504e7a4aa9dc097...</td>\n",
              "      <td>1</td>\n",
              "      <td>4</td>\n",
              "      <td>99</td>\n",
              "      <td>1</td>\n",
              "      <td>2</td>\n",
              "      <td>3</td>\n",
              "      <td>3</td>\n",
              "      <td>6</td>\n",
              "      <td>16</td>\n",
              "    </tr>\n",
              "    <tr>\n",
              "      <th>1</th>\n",
              "      <td>5f7c3a8f37d9c268d06130ff0be5d32a1b9ef68c13049f...</td>\n",
              "      <td>1</td>\n",
              "      <td>6</td>\n",
              "      <td>4</td>\n",
              "      <td>4</td>\n",
              "      <td>2</td>\n",
              "      <td>5</td>\n",
              "      <td>2</td>\n",
              "      <td>6</td>\n",
              "      <td>1</td>\n",
              "    </tr>\n",
              "    <tr>\n",
              "      <th>2</th>\n",
              "      <td>1119c23c3a504ca7b75060277410c0f6fb9018ec7638c2...</td>\n",
              "      <td>2</td>\n",
              "      <td>7</td>\n",
              "      <td>4</td>\n",
              "      <td>3</td>\n",
              "      <td>2</td>\n",
              "      <td>5</td>\n",
              "      <td>5</td>\n",
              "      <td>6</td>\n",
              "      <td>9</td>\n",
              "    </tr>\n",
              "  </tbody>\n",
              "</table>\n",
              "</div>"
            ],
            "text/plain": [
              "                                              act_id  ...  mrz_btp_dit_cd\n",
              "0  64aae8dd71e5c0761000db9f9a6779e504e7a4aa9dc097...  ...              16\n",
              "1  5f7c3a8f37d9c268d06130ff0be5d32a1b9ef68c13049f...  ...               1\n",
              "2  1119c23c3a504ca7b75060277410c0f6fb9018ec7638c2...  ...               9\n",
              "\n",
              "[3 rows x 10 columns]"
            ]
          },
          "metadata": {},
          "execution_count": 6
        }
      ]
    },
    {
      "cell_type": "code",
      "metadata": {
        "colab": {
          "base_uri": "https://localhost:8080/",
          "height": 142
        },
        "id": "6Qs379_gCKQ1",
        "outputId": "9d8eaebd-7985-4272-c4a9-e5dd929ab37c"
      },
      "source": [
        "stock_info.head(3)"
      ],
      "execution_count": 7,
      "outputs": [
        {
          "output_type": "execute_result",
          "data": {
            "text/html": [
              "<div>\n",
              "<style scoped>\n",
              "    .dataframe tbody tr th:only-of-type {\n",
              "        vertical-align: middle;\n",
              "    }\n",
              "\n",
              "    .dataframe tbody tr th {\n",
              "        vertical-align: top;\n",
              "    }\n",
              "\n",
              "    .dataframe thead th {\n",
              "        text-align: right;\n",
              "    }\n",
              "</style>\n",
              "<table border=\"1\" class=\"dataframe\">\n",
              "  <thead>\n",
              "    <tr style=\"text-align: right;\">\n",
              "      <th></th>\n",
              "      <th>iem_cd</th>\n",
              "      <th>iem_krl_nm</th>\n",
              "      <th>btp_cfc_cd</th>\n",
              "      <th>mkt_pr_tal_scl_tp_cd</th>\n",
              "      <th>stk_dit_cd</th>\n",
              "    </tr>\n",
              "  </thead>\n",
              "  <tbody>\n",
              "    <tr>\n",
              "      <th>0</th>\n",
              "      <td>A000020</td>\n",
              "      <td>동화약품</td>\n",
              "      <td>14</td>\n",
              "      <td>2</td>\n",
              "      <td>99</td>\n",
              "    </tr>\n",
              "    <tr>\n",
              "      <th>1</th>\n",
              "      <td>A000080</td>\n",
              "      <td>하이트진로</td>\n",
              "      <td>14</td>\n",
              "      <td>2</td>\n",
              "      <td>1</td>\n",
              "    </tr>\n",
              "    <tr>\n",
              "      <th>2</th>\n",
              "      <td>A000180</td>\n",
              "      <td>성창기업지주</td>\n",
              "      <td>14</td>\n",
              "      <td>3</td>\n",
              "      <td>99</td>\n",
              "    </tr>\n",
              "  </tbody>\n",
              "</table>\n",
              "</div>"
            ],
            "text/plain": [
              "    iem_cd iem_krl_nm  btp_cfc_cd  mkt_pr_tal_scl_tp_cd  stk_dit_cd\n",
              "0  A000020       동화약품          14                     2          99\n",
              "1  A000080      하이트진로          14                     2           1\n",
              "2  A000180     성창기업지주          14                     3          99"
            ]
          },
          "metadata": {},
          "execution_count": 7
        }
      ]
    },
    {
      "cell_type": "code",
      "metadata": {
        "colab": {
          "base_uri": "https://localhost:8080/",
          "height": 142
        },
        "id": "sTK25lO1CLNn",
        "outputId": "156f5dae-b714-4e2a-9a40-f5b6066883ee"
      },
      "source": [
        "stock_rem_hist.head(3)"
      ],
      "execution_count": 8,
      "outputs": [
        {
          "output_type": "execute_result",
          "data": {
            "text/html": [
              "<div>\n",
              "<style scoped>\n",
              "    .dataframe tbody tr th:only-of-type {\n",
              "        vertical-align: middle;\n",
              "    }\n",
              "\n",
              "    .dataframe tbody tr th {\n",
              "        vertical-align: top;\n",
              "    }\n",
              "\n",
              "    .dataframe thead th {\n",
              "        text-align: right;\n",
              "    }\n",
              "</style>\n",
              "<table border=\"1\" class=\"dataframe\">\n",
              "  <thead>\n",
              "    <tr style=\"text-align: right;\">\n",
              "      <th></th>\n",
              "      <th>act_id</th>\n",
              "      <th>bse_dt</th>\n",
              "      <th>iem_cd</th>\n",
              "      <th>bnc_qty</th>\n",
              "      <th>tot_aet_amt</th>\n",
              "      <th>stk_par_pr</th>\n",
              "    </tr>\n",
              "  </thead>\n",
              "  <tbody>\n",
              "    <tr>\n",
              "      <th>0</th>\n",
              "      <td>1119c23c3a504ca7b75060277410c0f6fb9018ec7638c2...</td>\n",
              "      <td>20200820</td>\n",
              "      <td>A008770</td>\n",
              "      <td>40.0000</td>\n",
              "      <td>2828000.0000</td>\n",
              "      <td>5000.0000</td>\n",
              "    </tr>\n",
              "    <tr>\n",
              "      <th>1</th>\n",
              "      <td>1119c23c3a504ca7b75060277410c0f6fb9018ec7638c2...</td>\n",
              "      <td>20200623</td>\n",
              "      <td>A008770</td>\n",
              "      <td>20.0000</td>\n",
              "      <td>1390000.0000</td>\n",
              "      <td>5000.0000</td>\n",
              "    </tr>\n",
              "    <tr>\n",
              "      <th>2</th>\n",
              "      <td>1119c23c3a504ca7b75060277410c0f6fb9018ec7638c2...</td>\n",
              "      <td>20160104</td>\n",
              "      <td>A005940</td>\n",
              "      <td>311.0000</td>\n",
              "      <td>2982490.0000</td>\n",
              "      <td>5000.0000</td>\n",
              "    </tr>\n",
              "  </tbody>\n",
              "</table>\n",
              "</div>"
            ],
            "text/plain": [
              "                                              act_id  ...  stk_par_pr\n",
              "0  1119c23c3a504ca7b75060277410c0f6fb9018ec7638c2...  ...   5000.0000\n",
              "1  1119c23c3a504ca7b75060277410c0f6fb9018ec7638c2...  ...   5000.0000\n",
              "2  1119c23c3a504ca7b75060277410c0f6fb9018ec7638c2...  ...   5000.0000\n",
              "\n",
              "[3 rows x 6 columns]"
            ]
          },
          "metadata": {},
          "execution_count": 8
        }
      ]
    },
    {
      "cell_type": "code",
      "metadata": {
        "colab": {
          "base_uri": "https://localhost:8080/",
          "height": 142
        },
        "id": "yBXh1gTQCM-f",
        "outputId": "11756545-7594-4fc9-c864-0c1937014b44"
      },
      "source": [
        "train.head(3)"
      ],
      "execution_count": 9,
      "outputs": [
        {
          "output_type": "execute_result",
          "data": {
            "text/html": [
              "<div>\n",
              "<style scoped>\n",
              "    .dataframe tbody tr th:only-of-type {\n",
              "        vertical-align: middle;\n",
              "    }\n",
              "\n",
              "    .dataframe tbody tr th {\n",
              "        vertical-align: top;\n",
              "    }\n",
              "\n",
              "    .dataframe thead th {\n",
              "        text-align: right;\n",
              "    }\n",
              "</style>\n",
              "<table border=\"1\" class=\"dataframe\">\n",
              "  <thead>\n",
              "    <tr style=\"text-align: right;\">\n",
              "      <th></th>\n",
              "      <th>act_id</th>\n",
              "      <th>iem_cd</th>\n",
              "      <th>byn_dt</th>\n",
              "      <th>hold_d</th>\n",
              "    </tr>\n",
              "  </thead>\n",
              "  <tbody>\n",
              "    <tr>\n",
              "      <th>0</th>\n",
              "      <td>0ad104dbed99be0cd858aa772765ddedade554601a981b...</td>\n",
              "      <td>A006360</td>\n",
              "      <td>20180726</td>\n",
              "      <td>11</td>\n",
              "    </tr>\n",
              "    <tr>\n",
              "      <th>1</th>\n",
              "      <td>0ad104dbed99be0cd858aa772765ddedade554601a981b...</td>\n",
              "      <td>A005930</td>\n",
              "      <td>20180131</td>\n",
              "      <td>80</td>\n",
              "    </tr>\n",
              "    <tr>\n",
              "      <th>2</th>\n",
              "      <td>0ad104dbed99be0cd858aa772765ddedade554601a981b...</td>\n",
              "      <td>A005070</td>\n",
              "      <td>20180517</td>\n",
              "      <td>5</td>\n",
              "    </tr>\n",
              "  </tbody>\n",
              "</table>\n",
              "</div>"
            ],
            "text/plain": [
              "                                              act_id   iem_cd    byn_dt  hold_d\n",
              "0  0ad104dbed99be0cd858aa772765ddedade554601a981b...  A006360  20180726      11\n",
              "1  0ad104dbed99be0cd858aa772765ddedade554601a981b...  A005930  20180131      80\n",
              "2  0ad104dbed99be0cd858aa772765ddedade554601a981b...  A005070  20180517       5"
            ]
          },
          "metadata": {},
          "execution_count": 9
        }
      ]
    },
    {
      "cell_type": "code",
      "metadata": {
        "colab": {
          "base_uri": "https://localhost:8080/",
          "height": 142
        },
        "id": "ZIHAWuKpCNnD",
        "outputId": "7d0d5a90-c966-4642-a534-adb5f02b2205"
      },
      "source": [
        "test.head(3)"
      ],
      "execution_count": 10,
      "outputs": [
        {
          "output_type": "execute_result",
          "data": {
            "text/html": [
              "<div>\n",
              "<style scoped>\n",
              "    .dataframe tbody tr th:only-of-type {\n",
              "        vertical-align: middle;\n",
              "    }\n",
              "\n",
              "    .dataframe tbody tr th {\n",
              "        vertical-align: top;\n",
              "    }\n",
              "\n",
              "    .dataframe thead th {\n",
              "        text-align: right;\n",
              "    }\n",
              "</style>\n",
              "<table border=\"1\" class=\"dataframe\">\n",
              "  <thead>\n",
              "    <tr style=\"text-align: right;\">\n",
              "      <th></th>\n",
              "      <th>act_id</th>\n",
              "      <th>iem_cd</th>\n",
              "      <th>byn_dt</th>\n",
              "      <th>hist_d</th>\n",
              "      <th>submit_id</th>\n",
              "      <th>hold_d</th>\n",
              "    </tr>\n",
              "  </thead>\n",
              "  <tbody>\n",
              "    <tr>\n",
              "      <th>0</th>\n",
              "      <td>0ad104dbed99be0cd858aa772765ddedade554601a981b...</td>\n",
              "      <td>A032640</td>\n",
              "      <td>20200522</td>\n",
              "      <td>153</td>\n",
              "      <td>IDX00001</td>\n",
              "      <td>0</td>\n",
              "    </tr>\n",
              "    <tr>\n",
              "      <th>1</th>\n",
              "      <td>0ad104dbed99be0cd858aa772765ddedade554601a981b...</td>\n",
              "      <td>A160600</td>\n",
              "      <td>20190823</td>\n",
              "      <td>335</td>\n",
              "      <td>IDX00002</td>\n",
              "      <td>0</td>\n",
              "    </tr>\n",
              "    <tr>\n",
              "      <th>2</th>\n",
              "      <td>0ad104dbed99be0cd858aa772765ddedade554601a981b...</td>\n",
              "      <td>A234340</td>\n",
              "      <td>20200611</td>\n",
              "      <td>139</td>\n",
              "      <td>IDX00003</td>\n",
              "      <td>0</td>\n",
              "    </tr>\n",
              "  </tbody>\n",
              "</table>\n",
              "</div>"
            ],
            "text/plain": [
              "                                              act_id   iem_cd  ...  submit_id  hold_d\n",
              "0  0ad104dbed99be0cd858aa772765ddedade554601a981b...  A032640  ...   IDX00001       0\n",
              "1  0ad104dbed99be0cd858aa772765ddedade554601a981b...  A160600  ...   IDX00002       0\n",
              "2  0ad104dbed99be0cd858aa772765ddedade554601a981b...  A234340  ...   IDX00003       0\n",
              "\n",
              "[3 rows x 6 columns]"
            ]
          },
          "metadata": {},
          "execution_count": 10
        }
      ]
    },
    {
      "cell_type": "markdown",
      "metadata": {
        "id": "mWHsZiwj6Ibw"
      },
      "source": [
        "## 데이터별 기본 정보 확인"
      ]
    },
    {
      "cell_type": "markdown",
      "metadata": {
        "id": "RqFKphdb6L8P"
      },
      "source": [
        "각각의 데이터셋 별로 다양한 컬럼들이 존재합니다.  \n",
        "데이터들에 대한 EDA를 진행하기 전 데이터별 기본적인 정보들을 확인해보겠습니다."
      ]
    },
    {
      "cell_type": "markdown",
      "metadata": {
        "id": "8wm-1xq1CO8I"
      },
      "source": [
        "### 고객 정보 데이터 (cus_info.csv)\n",
        "\n",
        "2020년 7월 이전 계좌개설 및 2020년 12월 기준 국내주식 자산 100만원 이상 고객 중 10,000명 임의 추출한 데이터들입니다\n"
      ]
    },
    {
      "cell_type": "code",
      "metadata": {
        "id": "WfdxjCfiofhm"
      },
      "source": [
        "arguments = {}\n",
        "\n",
        "sex = { 1: \"남자\", 2: \"여자\"}\n",
        "age = { 1: \"20-24세\", 2: \"25-29세\", 3: \"30-34세\", 4: \"35-39세\", 5: \"40-44세\", 6: \"45-49세\", 7: \"50-54세\", 8: \"55-59세\", 9: \"60-64세\" }\n",
        "invest_type = { 0: \"정보제공미동의\", 1: \"안정형\", 2: \"안정추구형\", 3: \"위험중립형\", 4: \"적극투자형\", 5: \"공격투자형\", 9: \"전문투자자형\"}\n",
        "asset_range = { 1: \"0원이상~1천만원 미만\", 2: \"1천만원 이상~3천만원 미만\", 3: \"3천만원 이상~5천만원 미만\", 4: \"5천만원 이상~1억원 미만\", 5: \"1억원 이상~3억원 미만\", 6: \"3억원 이상\"}\n",
        "major_product = { 0: \"Only CMA\", 2: \"국내주식\", 3: \"해외주식\", 5: \"금속\", 6: \"국내채권\", 8: \"펀드\", 9: \"ELS or DLS\", 10: \"신탁_퇴직연금\", 11: \"RP\", 12: \"발행어음\", 15: \"신용대출\"}\n",
        "life_stage = { 2: \"사회초년생\", 3: \"가족형성기(남자)\", 4: \"가족형성기(여자)\", 5: \"가족성숙기(직장인)\", 6: \"가족성숙기(주부)\", 7: \"가족성숙기(남자)\", 8: \"가족성숙기(여자)\", 9: \"은퇴기\"}\n",
        "grade = { 1: \"탑클래스\", 2: \"골드\", 3: \"로얄\", 4: \"그린\", 5: \"블루\", 9: \"등급 미정의\"}\n",
        "duration = { 1: \"6개월 미만\", 2: \"6개월~1년 미만\", 3: \"1년~3년 미만\", 4: \"3년~5년 미만\", 5: \"5년~10년 미만\", 6: \"10년 이상\" }\n",
        "major_type = { 1: \"건설업\", 2: \"금융업\", 3: \"기계\", 4: \"방송, 통신\", 5: \"서비스, 오락, 문화\", 6: \"운송, 운수\", 7: \"유통\", \n",
        "              8: \"의료, 의약\", 9: \"전기, 전자\", 10: \"제조\", 11: \"철강\", 12: \"화학\", 13: \"IT\", 14: \"기타\", 15: \"혼합\", 16: \"비매매\" }\n",
        "\n",
        "arguments['sex'] = sex\n",
        "arguments['age'] = age\n",
        "arguments['invest'] = invest_type\n",
        "arguments['asset'] = asset_range\n",
        "arguments['major_prod'] = major_product\n",
        "arguments['life_stage'] = life_stage\n",
        "arguments['grade'] = grade\n",
        "arguments['duration'] = duration\n",
        "arguments['major_type'] = major_type"
      ],
      "execution_count": 163,
      "outputs": []
    },
    {
      "cell_type": "code",
      "metadata": {
        "colab": {
          "base_uri": "https://localhost:8080/"
        },
        "id": "hQMPS6I68eZo",
        "outputId": "4c94b11b-54a0-4f1c-e4b0-2d8b64620b56"
      },
      "source": [
        "# missing value change to Nan\n",
        "customers['ivs_icn_cd'] = customers['ivs_icn_cd'].progress_apply(lambda x: None if x == 99 or np.isnan(x) else int(x))\n",
        "customers['tco_cus_grd_cd'] = customers['tco_cus_grd_cd'].progress_apply(lambda x: None if x == 99 or np.isnan(x) else int(x))"
      ],
      "execution_count": 164,
      "outputs": [
        {
          "output_type": "stream",
          "name": "stderr",
          "text": [
            "100%|██████████| 10000/10000 [00:00<00:00, 283416.15it/s]\n",
            "100%|██████████| 10000/10000 [00:00<00:00, 321760.12it/s]\n"
          ]
        }
      ]
    },
    {
      "cell_type": "code",
      "metadata": {
        "colab": {
          "base_uri": "https://localhost:8080/"
        },
        "id": "0GJHz7U69yl9",
        "outputId": "6384f60b-ae3c-4fd7-aa34-07a8430b0769"
      },
      "source": [
        "print(f'전체 고객 수 : {len(customers)}명')"
      ],
      "execution_count": 14,
      "outputs": [
        {
          "output_type": "stream",
          "name": "stdout",
          "text": [
            "전체 고객 수 : 10000명\n"
          ]
        }
      ]
    },
    {
      "cell_type": "markdown",
      "metadata": {
        "id": "dpW2sVWYtdqw"
      },
      "source": [
        "전체 분석가능한 고객의 수는 앞서 소개한 바와 같이 10,000명입니다.  \n",
        "이번에는 고객의 성별과 연령 분포를 확인하겠습니다."
      ]
    },
    {
      "cell_type": "code",
      "metadata": {
        "colab": {
          "base_uri": "https://localhost:8080/",
          "height": 747
        },
        "id": "zLzT5cnbtmhu",
        "outputId": "9eb0e426-b072-4aa8-b20f-c5be5ea5fb9e"
      },
      "source": [
        "fig = plt.figure(figsize=(50, 50))\n",
        "\n",
        "ax = [None for _ in range(3)]\n",
        "\n",
        "ax[0] = plt.subplot2grid((10, 5), (0, 0), colspan=1)\n",
        "ax[1] = plt.subplot2grid((10, 5), (0, 1), colspan=1)\n",
        "ax[2] = plt.subplot2grid((10, 5), (1, 0), colspan=2)\n",
        "\n",
        "# sex plot\n",
        "sns.countplot(data=customers, x=customers.sex_dit_cd.map(arguments['sex']), ax=ax[0])\n",
        "ax[0].set_title(\"고객 성별 분포\", fontsize=20)\n",
        "ax[0].set_xlabel(\"성별\", fontsize=15)\n",
        "ax[0].set_ylabel(\"인원수\", fontsize=15)\n",
        "ax[0].set_xticklabels(fontsize=15, labels=arguments['sex'].values())\n",
        "\n",
        "# age plot\n",
        "sns.countplot(data=customers, x=customers.cus_age_stn_cd.map(arguments['age']), ax=ax[1], order=arguments['age'].values())\n",
        "ax[1].set_title(\"고객 연령 분포\", fontsize=20)\n",
        "ax[1].set_xlabel(\"연령분포\", fontsize=15)\n",
        "ax[1].set_ylabel(\"인원수\", fontsize=15)\n",
        "ax[1].set_xticklabels(fontsize=15, labels=arguments['age'].values())\n",
        "\n",
        "# age X sex\n",
        "sns.countplot(data=customers, x=customers.cus_age_stn_cd.map(arguments['age']), ax=ax[2], order=arguments['age'].values(), hue=customers.sex_dit_cd.map(arguments['sex']))\n",
        "ax[2].set_title(\"고객 연령별 성별 분포\", fontsize=20)\n",
        "ax[2].set_xlabel(\"연령\", fontsize=15)\n",
        "ax[2].set_ylabel(\"인원수\", fontsize=15)\n",
        "ax[2].set_xticklabels(fontsize=15, labels=arguments['age'].values())\n",
        "ax[2].get_legend().set_title('성별')\n",
        "ax[2].legend(fontsize=15)\n",
        "\n",
        "fig.tight_layout()\n",
        "plt.show()"
      ],
      "execution_count": 183,
      "outputs": [
        {
          "output_type": "display_data",
          "data": {
            "image/png": "[encoded data removed]",
            "text/plain": [
              "<Figure size 3600x3600 with 3 Axes>"
            ]
          },
          "metadata": {
            "needs_background": "light"
          }
        }
      ]
    },
    {
      "cell_type": "markdown",
      "metadata": {
        "id": "ykg6vLc54tha"
      },
      "source": [
        "전체 고객 중 남성 고객이 여성 고객보다 많은 것을 알 수 있습니다. 그리고 전체 연령에서도 남성 고객이 여성 고객보다 많은 것을 알 수 있습니다.  \n",
        "연령 분포는 가장 많은 연령대는 35 ~ 39세이고 가장 적은 연령대는 60 ~ 64세 인 것을 알 수 있습니다."
      ]
    },
    {
      "cell_type": "markdown",
      "metadata": {
        "id": "ChIbVfkw6h1X"
      },
      "source": [
        "다음은 연령대, 성별 기준의 투자성향의 분포입니다. (결측치는 모두 제거한 그래프입니다.)"
      ]
    },
    {
      "cell_type": "code",
      "metadata": {
        "colab": {
          "base_uri": "https://localhost:8080/",
          "height": 747
        },
        "id": "A4Ec6FTz6bpt",
        "outputId": "cfd7d3d8-1676-4d6f-9309-544eae4fe69c"
      },
      "source": [
        "fig = plt.figure(figsize=(50, 50))\n",
        "\n",
        "ax = [None for _ in range(3)]\n",
        "\n",
        "ax[0] = plt.subplot2grid((10, 5), (0, 0), colspan=2)\n",
        "ax[1] = plt.subplot2grid((10, 5), (1, 0), colspan=1)\n",
        "ax[2] = plt.subplot2grid((10, 5), (1, 1), colspan=1)\n",
        "\n",
        "# investment type plot\n",
        "sns.countplot(data=customers, x=customers.ivs_icn_cd.map(arguments['invest']), ax=ax[0], order=arguments['invest'].values())\n",
        "ax[0].set_title(\"전체 고객의 투자성향 분포\", fontsize=20)\n",
        "ax[0].set_xticklabels(arguments['invest'].values(), fontsize=15)\n",
        "ax[0].set_ylabel(\"인원수\", fontsize=15)\n",
        "ax[0].set_xlabel(\"투자성향\", fontsize=15)\n",
        "\n",
        "# invest type X sex\n",
        "sns.countplot(data=customers, x=customers.ivs_icn_cd.map(arguments['invest']), ax=ax[1], order=arguments['invest'].values(), hue=customers.sex_dit_cd.map(arguments['sex']))\n",
        "ax[1].set_title(\"투자성향별 성별 분포\", fontsize=20)\n",
        "ax[1].set_xticklabels(arguments['invest'].values(), fontsize=15)\n",
        "ax[1].set_ylabel(\"인원수\", fontsize=15)\n",
        "ax[1].set_xlabel(\"투자성향\", fontsize=15)\n",
        "ax[1].legend(fontsize=15)\n",
        "\n",
        "# invest type X age\n",
        "\"\"\"\n",
        "sns.countplot(data=customers, x=customers.ivs_icn_cd.map(arguments['invest']), ax=ax[2], order=arguments['invest'].values(), hue=customers.cus_age_stn_cd.map(arguments['age']))\n",
        "ax[2].set_title(\"투자성향별 성별 분포\", fontsize=20)\n",
        "ax[2].set_xticklabels(arguments['invest'].values(), fontsize=15)\n",
        "ax[2].set_ylabel(\"인원수\", fontsize=15)\n",
        "ax[2].set_xlabel(\"투자성향\", fontsize=15)\n",
        "ax[2].legend(fontsize=15)\n",
        "\"\"\"\n",
        "sns.countplot(data=customers, x=customers.cus_age_stn_cd.map(arguments['age']), ax=ax[2], order=arguments['age'].values(), hue=customers.ivs_icn_cd.map(arguments['invest']))\n",
        "ax[2].set_title(\"연령별 투장성향 분포\", fontsize=20)\n",
        "ax[2].set_xlabel(\"연령\", fontsize=15)\n",
        "ax[2].set_ylabel(\"인원수\", fontsize=15)\n",
        "ax[2].set_xticklabels(fontsize=15, labels=arguments['age'].values())\n",
        "ax[2].legend(fontsize=15)\n",
        "\n",
        "\n",
        "fig.tight_layout()\n",
        "plt.show()"
      ],
      "execution_count": 184,
      "outputs": [
        {
          "output_type": "display_data",
          "data": {
            "image/png": "[encoded data removed]",
            "text/plain": [
              "<Figure size 3600x3600 with 3 Axes>"
            ]
          },
          "metadata": {
            "needs_background": "light"
          }
        }
      ]
    },
    {
      "cell_type": "code",
      "metadata": {
        "id": "oZ0Y5pmvAqhs"
      },
      "source": [
        ""
      ],
      "execution_count": null,
      "outputs": []
    }
  ]
}